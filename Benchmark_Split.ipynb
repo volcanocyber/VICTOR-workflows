{
 "cells": [
  {
   "cell_type": "markdown",
   "id": "71be22ba-00f9-4acd-b79d-3bf9b72d5376",
   "metadata": {},
   "source": [
    "# Benchmark: Split Flow"
   ]
  },
  {
   "cell_type": "code",
   "execution_count": null,
   "id": "eb9167fd-ce08-455b-b842-e66dc4777dc1",
   "metadata": {
    "tags": []
   },
   "outputs": [],
   "source": [
    "import rioxarray as rxr\n",
    "import numpy as np\n",
    "import matplotlib.pyplot as plt\n",
    "import sys\n",
    "sys.path.insert(0,\"/home/jovyan/shared/Libraries\")\n",
    "import victor\n",
    "import cartopy.crs as ccrs\n",
    "import subprocess\n",
    "import os\n",
    "import pandas as pd\n",
    "import xarray as xr\n",
    "import rasterio as rio"
   ]
  },
  {
   "cell_type": "markdown",
   "id": "0fc07771-1e1f-492c-a7ea-4ea64d8a1b83",
   "metadata": {},
   "source": [
    "#### This benchmark is based on an experiment performed at the Syracuse University Lava Project that involved pouring molten basalt at a constant supply rate onto a sloping plane (Dietterich et al., [2015](https://appliedvolc.biomedcentral.com/articles/10.1186/s13617-017-0061-x#ref-CR20)).\n",
    "\n",
    "This simulation captures both thermal effects and their impacts on flow rheology. This experiment also allows us to compare the flow propagation and surface temperature between the numerical simulations and the experimental data.\n",
    "\n",
    "We encourage changing the volume betweens runs to compare the physical or stochastic reactions at various scales. It is also recommended to change the slope of the bed to measure various internal friction effects. Finally, the angle of the obstacle, which can dictate if/how the separated flows recombine, "
   ]
  },
  {
   "cell_type": "code",
   "execution_count": null,
   "id": "c1601035-82ae-445b-bf85-58ab8a7d78fc",
   "metadata": {
    "tags": []
   },
   "outputs": [],
   "source": [
    "bed_slope = 14\n",
    "\n",
    "volume = 7.7e-4\n",
    "\n",
    "split_angle = 90"
   ]
  },
  {
   "cell_type": "markdown",
   "id": "f7d8f467-a1dc-4f71-b8d3-9406684ba516",
   "metadata": {},
   "source": [
    "#### The following cells should not be edited, unless you have extensive knowledge of the model.\n",
    "\n",
    "The following cell sets up common parameters. Following this, the next 4 cells format and generate input files for each respective model, at parameters considered reasonable for this benchmark."
   ]
  },
  {
   "cell_type": "code",
   "execution_count": null,
   "id": "77cb1467-6a28-4c80-b5bd-791781dbdeb6",
   "metadata": {
    "jupyter": {
     "source_hidden": true
    },
    "tags": []
   },
   "outputs": [],
   "source": [
    "easting = 0\n",
    "northing = 0\n",
    "scale = volume/7.7e-4\n",
    "\n",
    "f = open(\"slope.asc\",\"r+\")\n",
    "header = f.readlines()\n",
    "header[3] = f\"\"\"xllcorner {-2*scale}\\n\"\"\"\n",
    "header[4] = f\"\"\"yllcorner {-1.5*scale}\\n\"\"\"\n",
    "header[5] = f\"\"\"cellsize {0.01*scale}\\n\"\"\"\n",
    "f.seek(0)\n",
    "f.writelines(header)\n",
    "f.truncate()\n",
    "f.close()\n",
    "\n",
    "r = rxr.open_rasterio(\"slope.asc\")\n",
    "height = r.rio.resolution()[0]*501*np.sin(np.deg2rad(angle))\n",
    "slope = np.linspace(height,0,501)\n",
    "stacked = np.tile(slope,(301,1))\n",
    "r[0,:,:] = stacked\n",
    "r.rio.to_raster(\"split.asc\")"
   ]
  },
  {
   "cell_type": "code",
   "execution_count": null,
   "id": "7e667349-083f-4050-ac29-ab8a63bcf9b3",
   "metadata": {
    "jupyter": {
     "source_hidden": true
    },
    "tags": []
   },
   "outputs": [],
   "source": [
    "raster = rxr.open_rasterio(\"split.asc\")\n",
    "raster = raster.sel({\"band\": 1})\n",
    "y = 150\n",
    "x = 70\n",
    "for i in range(14):\n",
    "    j = np.round(np.sin(np.deg2rad(split_angle)))\n",
    "    raster[y+j,x+j] = 5000\n",
    "    raster[y-j,x+j] = 5000\n",
    "raster.rio.to_raster('Benchmark_Split.asc')\n",
    "dem = 'Benchmark_Split.asc'\n",
    "\n",
    "xll, yll = int(raster.x.min()), int(raster.y.min())\n",
    "coordinates = np.array([int(easting),int(northing)])"
   ]
  },
  {
   "cell_type": "code",
   "execution_count": null,
   "id": "84d4fb55-b46e-4416-b6f1-a8552a0cad47",
   "metadata": {
    "jupyter": {
     "source_hidden": true
    },
    "tags": []
   },
   "outputs": [],
   "source": [
    "f = open(\"./Molasses/custom_molasses.conf\",\"r+\")\n",
    "conf = f.readlines()\n",
    "conf[2] = f\"\"\"MIN_RESIDUAL = {7e-6*scale}\\n\"\"\"\n",
    "conf[3] = f\"\"\"MAX_RESIDUAL ={1e-3*scale}\\n\"\"\"\n",
    "conf[4] = f\"\"\"MIN_TOTAL_VOLUME = {str(volume)}\\n\"\"\"\n",
    "conf[5] = f\"\"\"MAX_TOTAL_VOLUME = {str(volume)}\\n\"\"\"\n",
    "conf[6] = f\"\"\"MIN_PULSE_VOLUME = {float(volume)/100}\\n\"\"\"\n",
    "conf[7] = f\"\"\"MAX_PULSE_VOLUME = {float(volume)/100}\\n\"\"\"\n",
    "conf[10] = f\"\"\"DEM_FILE = {dem}\\n\"\"\"\n",
    "f.seek(0)\n",
    "f.writelines(conf)\n",
    "f.truncate()\n",
    "f.close()\n",
    "\n",
    "f=open(\"./Molasses/events.in\",\"w\")\n",
    "f.write(f\"\"\"{easting},{northing}\"\"\")\n",
    "f.close()\n",
    "\n",
    "os.chdir(\"Molasses\")\n",
    "subprocess.run(\"molasses custom_molasses.conf\",shell=True)\n",
    "\n",
    "victor.convert_molasses(\"molasses_axisymmetric\")\n",
    "\n",
    "os.chdir(\"..\")"
   ]
  },
  {
   "cell_type": "code",
   "execution_count": null,
   "id": "b146bf5e-bb92-416d-8d73-3397959f88e7",
   "metadata": {
    "jupyter": {
     "source_hidden": true
    },
    "tags": []
   },
   "outputs": [],
   "source": [
    "g=open(\"./mr_lava_loba/input_data.py\",\"r+\")\n",
    "inp = g.readlines()\n",
    "inp[1] = f\"\"\"run_name = 'Split'\\n\"\"\"\n",
    "inp[3] = f\"\"\"source = '{dem}'\\n\"\"\"\n",
    "inp[41] = f\"\"\"vent_flag = 0\\n\"\"\"\n",
    "inp[44] = f\"\"\"x_vent = [{int(easting)}]\\n\"\"\"\n",
    "inp[45] = f\"\"\"y_vent = [{int(northing)}]\\n\"\"\"\n",
    "inp[91]= f\"\"\"total_volume = {volume}\\n\"\"\"\n",
    "g.seek(0)\n",
    "g.writelines(inp)\n",
    "g.truncate()\n",
    "g.close()\n",
    "\n",
    "os.chdir(\"mr_lava_loba\")\n",
    "subprocess.run(f\"\"\"ln -s ../{dem} .\"\"\",shell=True)\n",
    "subprocess.run(\"python mr_lava_loba.py\",shell=True)\n",
    "os.remove(dem)\n",
    "os.chdir(\"..\")"
   ]
  },
  {
   "cell_type": "code",
   "execution_count": null,
   "id": "a125c1f3-451a-457e-9b74-54dfeb66ea5b",
   "metadata": {
    "jupyter": {
     "source_hidden": true
    },
    "tags": []
   },
   "outputs": [],
   "source": [
    "radius = 2e-3/ratio\n",
    "h=open(\"./IMEX/IMEX_LavaFlow.inp\",\"r+\")\n",
    "inp = h.readlines()\n",
    "inp[1] = 'RUN_NAME=\"Split           \",\\n'\n",
    "inp[4] = f\"\"\" T_END=  600,\\n\"\"\"\n",
    "inp[5] = f\"\"\" DT_OUTPUT=  120,\\n\"\"\"\n",
    "inp[13] = f\"\"\" X0= {xll}D0     ,\\n\"\"\"\n",
    "inp[14] = f\"\"\" Y0= {yll}D0      ,\\n\"\"\"\n",
    "inp[17] = f\"\"\" CELL_SIZE = {res[0]}D0 ,\\n\"\"\"\n",
    "inp[103] = f\"\"\"  X_SOURCE=  {easting}.0D0 ,\\n\"\"\"\n",
    "inp[104] = f\"\"\"  Y_SOURCE=  {northing}.0D0 ,\\n\"\"\"\n",
    "inp[106] = f\"\"\" VEL_SOURCE= {float(volume)/(radius**2*np.pi*600)} \\n\"\"\"\n",
    "h.seek(0)\n",
    "h.writelines(inp)\n",
    "h.truncate()\n",
    "h.close()\n",
    "\n",
    "os.chdir(\"IMEX\")\n",
    "subprocess.run(f\"\"\"ln -s ../{dem} topography_dem.asc\"\"\",shell=True)\n",
    "p = subprocess.Popen(['./IMEX_LavaFlow'], stdin=subprocess.PIPE, shell=True)\n",
    "p.communicate(input=b'\\n')\n",
    "os.remove(\"topography_dem.asc\")\n",
    "os.chdir(\"..\")"
   ]
  },
  {
   "cell_type": "code",
   "execution_count": null,
   "id": "896f5248-dc39-47f9-8f85-12e500ef6c85",
   "metadata": {
    "jupyter": {
     "source_hidden": true
    }
   },
   "outputs": [],
   "source": [
    "os.chdir(\"Volcflow\")\n",
    "j=open(\"./test_example/params.in\",\"r+\")\n",
    "inp = j.readlines()\n",
    "inp[3] = f\"\"\"file_z test_example/DTM/Benchmark_4.asc\\n\"\"\"\n",
    "inp[27] = f\"\"\"source_file test_example/slope_mask.tiff\\n\"\"\"\n",
    "j.seek(0)\n",
    "j.writelines(inp)\n",
    "j.truncate()\n",
    "j.close()\n",
    "\n",
    "subprocess.run(\"./volflow_c.exe test_example/params.in\",shell=True)\n",
    "os.chdir(\"..\")"
   ]
  },
  {
   "cell_type": "code",
   "execution_count": null,
   "id": "6ce7cbf4-ca85-410c-8a0b-d0abad7a70ed",
   "metadata": {
    "jupyter": {
     "source_hidden": true
    }
   },
   "outputs": [],
   "source": [
    "xres, yres = scale, scale\n",
    "\n",
    "os.chdir(\"lava2d\")\n",
    "\n",
    "with rio.open(\"base.tiff\") as dataset:\n",
    "    scale_factor_x = dataset.res[0]/xres\n",
    "    scale_factor_y = dataset.res[1]/yres\n",
    "\n",
    "    profile = dataset.profile.copy()\n",
    "    data = dataset.read(\n",
    "        out_shape=(\n",
    "            dataset.count,\n",
    "            301,\n",
    "            501\n",
    "        ),\n",
    "        resampling=Resampling.bilinear\n",
    "    )\n",
    "\n",
    "    transform = dataset.transform * dataset.transform.scale(\n",
    "        (1 / scale_factor_x),\n",
    "        (1 / scale_factor_y)\n",
    "    )\n",
    "    profile.update({\"height\": data.shape[-2],\n",
    "                    \"width\": data.shape[-1],\n",
    "                   \"transform\": transform})\n",
    "\n",
    "with rio.open(\"Benchmark_Split.tiff\", \"w\", **profile) as dataset:\n",
    "    dataset.write(data)\n",
    "\n",
    "r = rxr.open_rasterio(\"Benchmark_Split.tiff\",masked=True)\n",
    "r[0,:,:] = stacked\n",
    "r.rio.to_raster(\"Benchmark_Split.tiff\")\n",
    "lonlat = r.rio.reproject(\"EPSG:4326\")\n",
    "xmin,ymin,xmax,ymax = lonlat.rio.bounds()\n",
    "center = float(lonlat[:,150,105].x), float(lonlat[:,150,105].y)\n",
    "\n",
    "k=open(\"./input.py\",\"r+\")\n",
    "inp = k.readlines()\n",
    "inp[4] = '    path_to_dem_file    = (\"./Benchmark_Split.tiff\"),\\n'\n",
    "inp[5] = f\"\"\"    Lon_SRC             = {center[0]}, # source longitude\\n\"\"\"\n",
    "inp[6] = f\"\"\"    Lat_SRC             = {center[1]},    # source latitude\\n\"\"\"\n",
    "inp[7] = f\"\"\"    Lon_LowerLeft       = {xmin}, # bounding box: lower-left longitude\\n\"\"\"\n",
    "inp[8] = f\"\"\"    Lat_LowerLeft       = {ymin}, # bounding box: lower-left latitude\\n\"\"\"\n",
    "inp[9] = f\"\"\"    Lon_UpperRight      = {xmax}, # bounding box: upper-right longitude\\n\"\"\"\n",
    "inp[10] = f\"\"\"    Lat_UpperRight      = {ymax},   # bounding box: upper-right latitude\\n\"\"\"\n",
    "inp[67] = f\"\"\"    max_time_hr = {600/3600}\\n\"\"\"\n",
    "\n",
    "k.seek(0)\n",
    "k.writelines(inp)\n",
    "k.truncate()\n",
    "k.close()\n",
    "\n",
    "k=open(\"./example_vents/vent_01.txt\",\"r+\")\n",
    "inp = k.readlines()\n",
    "inp[1] = f'''0\t{-.03*scale}\t{-.03*scale}\t{.03*scale}\t{.03*scale}\t{.01*scale}\t{7.7e-4*scale}\\n'''\n",
    "\n",
    "k.seek(0)\n",
    "k.writelines(inp)\n",
    "k.truncate()\n",
    "k.close()\n",
    "\n",
    "subprocess.run(\"python input.py\", shell=True, stdout=subprocess.DEVNULL)\n",
    "\n",
    "os.chdir(\"..\")"
   ]
  },
  {
   "cell_type": "markdown",
   "id": "a2e13926-7749-4197-9090-0aa04843b188",
   "metadata": {},
   "source": [
    "#### The final two cells concern visualization.\n",
    "\n",
    "The first provides a reference to the final timestamp of each simulation, though all outputs are avilable in their models' respective folder. The second and last cell plots each model side by side. We encourage users to edit this to their personal preference."
   ]
  },
  {
   "cell_type": "code",
   "execution_count": null,
   "id": "8ce8c0f9-6d7b-4006-a639-8f91237c6aad",
   "metadata": {},
   "outputs": [],
   "source": [
    "r = rxr.open_rasterio(\"IMEX/Split_0005.asc\",masked=True).max()\n",
    "r2 = rxr.open_rasterio(\"Molasses/molasses_split.asc\",masked=True).max()\n",
    "r3 = rxr.open_rasterio(\"mr_lava_loba/Split_000_thickness_masked.asc\",masked=True).max()\n",
    "r4 = xr.open_dataset(\"lava2d/outputs/out.nc\",group=\"DATA/PHYSICS\")\n",
    "r4 = r4['lava_thickness_total'].max()/1000\n",
    "maximum = np.max((r,r2,r3,r4))\n",
    "idx = np.argmax((r,r2,r3,r4))"
   ]
  },
  {
   "cell_type": "code",
   "execution_count": null,
   "id": "8c43b4c7-1c7a-4871-b2d6-8fef3dce08fa",
   "metadata": {
    "tags": []
   },
   "outputs": [],
   "source": [
    "fig, ((ax0, ax1), (ax2, ax3)) = plt.subplots(ncols=2, nrows=2,subplot_kw=dict(projection=ccrs.epsg(32628)), figsize = (12,9))\n",
    "\n",
    "xticks = np.linspace(-.2, 4.81, 5)\n",
    "yticks = np.linspace(-1.5, 1.51, 5)\n",
    "\n",
    "ax5.set_visible(False)\n",
    "\n",
    "ax0.cla()\n",
    "east, north = easting, northing\n",
    "\n",
    "thickness0,maxval0 = victor.plot_benchmark(dem, \"./Molasses/molasses_split.asc\", fig, ax0, coordinates, zoom=False)\n",
    "ax0.set_title('MOLASSES', fontsize=16)\n",
    "\n",
    "ax1.cla()\n",
    "thickness1,maxval1 =victor.plot_benchmark(dem, \"./mr_lava_loba/Split_000_thickness_masked.asc\", fig, ax1, coordinates, zoom=False,model=\"mrlavaloba\")\n",
    "ax1.set_title('MR LAVA LOBA', fontsize=16)\n",
    "ax1.set_aspect(\"equal\")\n",
    "\n",
    "ax2.cla()\n",
    "thickness2,maxval2 = victor.plot_benchmark(dem, \"./IMEX/Split_0005.asc\", fig, ax2, coordinates, zoom=False)\n",
    "ax2.set_title('IMEX', fontsize=16)\n",
    "ax2.set_aspect(\"equal\")\n",
    "\n",
    "ax3.cla()\n",
    "ds = xr.open_dataset(\"lava2d/outputs/out.nc\",group=\"DATA/PHYSICS\")\n",
    "ds = ds.where(ds != 0)\n",
    "ds = ds.where(ds > 1e-1)\n",
    "ax3.imshow(ds['lava_thickness_total'], cmap=\"Wistia\")\n",
    "ax3.set_xticks(np.linspace(0,501,5))\n",
    "ax3.set_yticks(np.linspace(0,301,5))\n",
    "ax3.set_xticklabels(ticks)\n",
    "ax3.set_yticklabels(np.array(list(reversed(ticks))))\n",
    "ax3.set_title('LAVA2D', fontsize=16)\n",
    "ax3.set_aspect(\"equal\")\n",
    "\n",
    "cbar_ax = fig.add_axes([.25, 0, 0.5, 0.05])\n",
    "# fig.tight_layout()\n",
    "thickness = [thickness0, thickness1, thickness2, (ds['lava_thickness_total']/1000)]\n",
    "thickness = thickness[idx]\n",
    "fig.colorbar(thickness, cax=cbar_ax, label=\"Flow Thickness (m)\", orientation=\"horizontal\")"
   ]
  }
 ],
 "metadata": {
  "kernelspec": {
   "display_name": "Python [conda env:notebook] *",
   "language": "python",
   "name": "conda-env-notebook-py"
  },
  "language_info": {
   "codemirror_mode": {
    "name": "ipython",
    "version": 3
   },
   "file_extension": ".py",
   "mimetype": "text/x-python",
   "name": "python",
   "nbconvert_exporter": "python",
   "pygments_lexer": "ipython3",
   "version": "3.10.11"
  }
 },
 "nbformat": 4,
 "nbformat_minor": 5
}
