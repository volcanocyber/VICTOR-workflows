{
 "cells": [
  {
   "cell_type": "markdown",
   "id": "71be22ba-00f9-4acd-b79d-3bf9b72d5376",
   "metadata": {},
   "source": [
    "# Benchmark: Axisymmetric cooling and spreading"
   ]
  },
  {
   "cell_type": "code",
   "execution_count": 1,
   "id": "eb9167fd-ce08-455b-b842-e66dc4777dc1",
   "metadata": {
    "tags": []
   },
   "outputs": [],
   "source": [
    "import rioxarray as rxr\n",
    "import numpy as np\n",
    "import matplotlib.pyplot as plt\n",
    "import sys\n",
    "sys.path.insert(0,\"/home/jovyan/shared/Libraries\")\n",
    "import victor\n",
    "import cartopy.crs as ccrs\n",
    "import subprocess\n",
    "import os\n",
    "import pandas as pd\n",
    "import xarray as xr\n",
    "import rasterio as rio\n",
    "from rasterio.enums import Resampling"
   ]
  },
  {
   "cell_type": "markdown",
   "id": "0fc07771-1e1f-492c-a7ea-4ea64d8a1b83",
   "metadata": {},
   "source": [
    "#### This benchmark is a temperature-dependent test on a viscous flow. \n",
    "\n",
    "In this experiment, a hot Newtonian fluid is extruded from a point source onto a horizontal plane and allowed to cool to the ambient air temperature. The propogation of such a flow has an analytical solution, which is plotted alongside the models.\n",
    "\n",
    "We have the initial volume set in accordance with the [Garel et al., 2012](https://appliedvolc.biomedcentral.com/articles/10.1186/s13617-017-0061-x#ref-CR26) experiment.\n",
    "\n",
    "We encourage changing the volume betweens runs to compare the physical or stochastic reactions at various scales."
   ]
  },
  {
   "cell_type": "code",
   "execution_count": null,
   "id": "c1601035-82ae-445b-bf85-58ab8a7d78fc",
   "metadata": {
    "tags": []
   },
   "outputs": [],
   "source": [
    "volume = 3.432e-6"
   ]
  },
  {
   "cell_type": "markdown",
   "id": "586a99f0-c1b6-4c17-bfa6-4821f1c19906",
   "metadata": {},
   "source": [
    "#### The following cells should not be edited, unless you have extensive knowledge of the model.\n",
    "\n",
    "The following cell sets up common parameters. Following this, the next 4 cells format and generate input files for each respective model, at parameters considered reasonable for this benchmark."
   ]
  },
  {
   "cell_type": "code",
   "execution_count": null,
   "id": "20b67ab2-d6bb-40b5-9106-191a22287a95",
   "metadata": {
    "jupyter": {
     "source_hidden": true
    },
    "tags": []
   },
   "outputs": [],
   "source": [
    "easting = 0\n",
    "northing = 0\n",
    "dem = \"Benchmark_Axisymmetric.asc\"\n",
    "raster = rxr.open_rasterio(dem)\n",
    "raster = raster.sel({\"band\": 1})\n",
    "xll, yll = float(raster.x.min()), float(raster.y.min())\n",
    "coordinates = np.array([int(easting),int(northing)])\n",
    "r = rio.open(dem)\n",
    "res = r.res\n",
    "ratio = volume/3.432e-6"
   ]
  },
  {
   "cell_type": "code",
   "execution_count": null,
   "id": "fdde9cea-9da3-49bc-a65c-0cf0e205df30",
   "metadata": {
    "jupyter": {
     "source_hidden": true
    },
    "tags": []
   },
   "outputs": [],
   "source": [
    "f = open(\"./Molasses/custom_molasses.conf\",\"r+\")\n",
    "conf = f.readlines()\n",
    "conf[2] = f\"\"\"MIN_RESIDUAL = {3e-8*ratio}\\n\"\"\"\n",
    "conf[3] = f\"\"\"MAX_RESIDUAL = {4e-5*ratio}\\n\"\"\"\n",
    "conf[4] = f\"\"\"MIN_TOTAL_VOLUME = {str(volume)}\\n\"\"\"\n",
    "conf[5] = f\"\"\"MAX_TOTAL_VOLUME = {str(volume)}\\n\"\"\"\n",
    "conf[6] = f\"\"\"MIN_PULSE_VOLUME = {float(volume)/100}\\n\"\"\"\n",
    "conf[7] = f\"\"\"MAX_PULSE_VOLUME = {float(volume)/100}\\n\"\"\"\n",
    "conf[10] = f\"\"\"DEM_FILE = {dem}\\n\"\"\"\n",
    "f.seek(0)\n",
    "f.writelines(conf)\n",
    "f.truncate()\n",
    "f.close()\n",
    "\n",
    "f=open(\"./Molasses/events.in\",\"w\")\n",
    "f.write(f\"\"\"{easting},{northing}\"\"\")\n",
    "f.close()\n",
    "\n",
    "os.chdir(\"Molasses\")\n",
    "subprocess.run(f\"\"\"ln -s ../{dem} .\"\"\",shell=True)\n",
    "subprocess.run(\"molasses custom_molasses.conf\",shell=True)\n",
    "\n",
    "victor.convert_molasses(\"molasses_axisymmetric\")\n",
    "os.chdir(\"..\")"
   ]
  },
  {
   "cell_type": "code",
   "execution_count": null,
   "id": "b146bf5e-bb92-416d-8d73-3397959f88e7",
   "metadata": {
    "jupyter": {
     "source_hidden": true
    },
    "tags": []
   },
   "outputs": [],
   "source": [
    "g=open(\"./mr_lava_loba/input_data.py\",\"r+\")\n",
    "inp = g.readlines()\n",
    "inp[1] = f\"\"\"run_name = 'Axisymmetric'\\n\"\"\"\n",
    "inp[3] = f\"\"\"source = '{dem}'\\n\"\"\"\n",
    "inp[41] = f\"\"\"vent_flag = 0\\n\"\"\"\n",
    "inp[44] = f\"\"\"x_vent = [{int(easting)}]\\n\"\"\"\n",
    "inp[45] = f\"\"\"y_vent = [{int(northing)}]\\n\"\"\"\n",
    "inp[91]= f\"\"\"total_volume = {volume}\\n\"\"\"\n",
    "g.seek(0)\n",
    "g.writelines(inp)\n",
    "g.truncate()\n",
    "g.close()\n",
    "\n",
    "os.chdir(\"mr_lava_loba\")\n",
    "subprocess.run(f\"\"\"ln -s ../{dem} .\"\"\",shell=True)\n",
    "subprocess.run(\"python mr_lava_loba.py\",shell=True)\n",
    "os.remove(dem)\n",
    "os.chdir(\"..\")"
   ]
  },
  {
   "cell_type": "code",
   "execution_count": null,
   "id": "a125c1f3-451a-457e-9b74-54dfeb66ea5b",
   "metadata": {
    "jupyter": {
     "source_hidden": true
    },
    "tags": []
   },
   "outputs": [],
   "source": [
    "radius = 2e-3/ratio\n",
    "h=open(\"./IMEX/IMEX_LavaFlow.inp\",\"r+\")\n",
    "inp = h.readlines()\n",
    "inp[1] = 'RUN_NAME=\"Axisymmetric           \",\\n'\n",
    "inp[4] = f\"\"\" T_END=  156,\\n\"\"\"\n",
    "inp[5] = f\"\"\" DT_OUTPUT=  50,\\n\"\"\"\n",
    "inp[13] = f\"\"\" X0= {xll}D0     ,\\n\"\"\"\n",
    "inp[14] = f\"\"\" Y0= {yll}D0      ,\\n\"\"\"\n",
    "inp[17] = f\"\"\" CELL_SIZE = {res[0]}D0 ,\\n\"\"\"\n",
    "inp[96] = f\"\"\"  X_SOURCE=  {easting}.0D0 ,\\n\"\"\"\n",
    "inp[97] = f\"\"\"  Y_SOURCE=  {northing}.0D0 ,\\n\"\"\"\n",
    "inp[99] = f\"\"\" VEL_SOURCE= {float(volume)/(radius**2*np.pi*156)} \\n\"\"\"\n",
    "h.seek(0)\n",
    "h.writelines(inp)\n",
    "h.truncate()\n",
    "h.close()\n",
    "\n",
    "os.chdir(\"IMEX\")\n",
    "subprocess.run(f\"\"\"ln -s ../{dem} topography_dem.asc\"\"\",shell=True)\n",
    "p = subprocess.Popen(['./IMEX_LavaFlow'], stdin=subprocess.PIPE, shell=True)\n",
    "p.communicate(input=b'\\n')\n",
    "os.remove(\"topography_dem.asc\")\n",
    "os.chdir(\"..\")"
   ]
  },
  {
   "cell_type": "code",
   "execution_count": null,
   "id": "7bb789de-49b2-4132-a4e0-2a6a3b47c2f9",
   "metadata": {
    "jupyter": {
     "source_hidden": true
    }
   },
   "outputs": [],
   "source": [
    "scale = ratio\n",
    "\n",
    "xres, yres = scale, scale\n",
    "\n",
    "os.chdir(\"lava2d\")\n",
    "\n",
    "with rio.open(\"flat.tiff\") as dataset:\n",
    "    scale_factor_x = dataset.res[0]/xres\n",
    "    scale_factor_y = dataset.res[1]/yres\n",
    "\n",
    "    profile = dataset.profile.copy()\n",
    "    data = dataset.read(\n",
    "        out_shape=(\n",
    "            dataset.count,\n",
    "            161,\n",
    "            161\n",
    "        ),\n",
    "        resampling=Resampling.nearest\n",
    "    )\n",
    "\n",
    "    transform = dataset.transform * dataset.transform.scale(\n",
    "        (1 / scale_factor_x),\n",
    "        (1 / scale_factor_y)\n",
    "    )\n",
    "    profile.update({\"height\": data.shape[-2],\n",
    "                    \"width\": data.shape[-1],\n",
    "                   \"transform\": transform})\n",
    "\n",
    "with rio.open(\"Benchmark_Axisymmetric.tiff\", \"w\", **profile) as dataset:\n",
    "    dataset.write(data)\n",
    "\n",
    "r = rxr.open_rasterio(\"Benchmark_Axisymmetric.tiff\")\n",
    "lonlat = r.rio.reproject(\"EPSG:4326\")\n",
    "xmin,ymin,xmax,ymax = lonlat.rio.bounds()\n",
    "center = float(lonlat[:,80,80].x), float(lonlat[:,80,80].y)\n",
    "\n",
    "k=open(\"./input.py\",\"r+\")\n",
    "inp = k.readlines()\n",
    "inp[4] = '    path_to_dem_file    = (\"./Benchmark_Axisymmetric.tiff\"),\\n'\n",
    "inp[5] = f\"\"\"    Lon_SRC             = {center[0]}, # source longitude\\n\"\"\"\n",
    "inp[6] = f\"\"\"    Lat_SRC             = {center[1]},    # source latitude\\n\"\"\"\n",
    "inp[7] = f\"\"\"    Lon_LowerLeft       = {xmin}, # bounding box: lower-left longitude\\n\"\"\"\n",
    "inp[8] = f\"\"\"    Lat_LowerLeft       = {ymin}, # bounding box: lower-left latitude\\n\"\"\"\n",
    "inp[9] = f\"\"\"    Lon_UpperRight      = {xmax}, # bounding box: upper-right longitude\\n\"\"\"\n",
    "inp[10] = f\"\"\"    Lat_UpperRight      = {ymax},   # bounding box: upper-right latitude\\n\"\"\"\n",
    "inp[67] = f\"\"\"    max_time_hr = {156/3600}\\n\"\"\"\n",
    "\n",
    "k.seek(0)\n",
    "k.writelines(inp)\n",
    "k.truncate()\n",
    "k.close()\n",
    "\n",
    "k=open(\"./example_vents/vent_01.txt\",\"r+\")\n",
    "inp = k.readlines()\n",
    "inp[1] = f'''0\t{-5*scale}\t{-5*scale}\t{5*scale}\t{5*scale}\t{3*scale}\t{2e-5*scale}\\n'''\n",
    "\n",
    "k.seek(0)\n",
    "k.writelines(inp)\n",
    "k.truncate()\n",
    "k.close()\n",
    "\n",
    "subprocess.run(\"python input.py\", shell=True, stdout=subprocess.DEVNULL)\n",
    "\n",
    "os.chdir(\"..\")"
   ]
  },
  {
   "cell_type": "markdown",
   "id": "a76aae74-72f9-4be4-afda-cf222dd5de81",
   "metadata": {},
   "source": [
    "#### The final two cells concern visualization.\n",
    "\n",
    "The first provides a reference to the final timestamp of each simulation, though all outputs are avilable in their models' respective folder. The second and last cell plots each model side by side. We encourage users to edit this to their personal preference."
   ]
  },
  {
   "cell_type": "code",
   "execution_count": null,
   "id": "1f372345-fdd9-44ca-97ee-577fea784d3a",
   "metadata": {},
   "outputs": [],
   "source": [
    "r = rxr.open_rasterio(\"IMEX/Axisymmetric_0007.asc\",masked=True).max()\n",
    "r2 = rxr.open_rasterio(\"Molasses/molasses_axisymmetric.asc\",masked=True).max()\n",
    "r3 = rxr.open_rasterio(\"mr_lava_loba/Axisymmetric_000_thickness_masked.asc\",masked=True).max()\n",
    "r4 = xr.open_dataset(\"lava2d/outputs/out.nc\",group=\"DATA/PHYSICS\")\n",
    "r4 = r4['lava_thickness_total'].max()/1000\n",
    "maximum = np.max((r,r2,r3,r4))\n",
    "idx = np.argmax((r,r2,r3,r4))"
   ]
  },
  {
   "cell_type": "code",
   "execution_count": null,
   "id": "8c43b4c7-1c7a-4871-b2d6-8fef3dce08fa",
   "metadata": {
    "tags": []
   },
   "outputs": [],
   "source": [
    "fig, ((ax0, ax1), (ax2, ax3)) = plt.subplots(ncols=2, nrows=2,subplot_kw=dict(projection=ccrs.epsg(32628)), figsize = (12,9))\n",
    "\n",
    "ticks = np.array([-.08, -.04, 0, .04, .08])\n",
    "\n",
    "ax0.cla()\n",
    "east, north = easting, northing\n",
    "\n",
    "thickness0,maxval0 = victor.plot_benchmark(dem, \"./Molasses/molasses_axisymmetric.asc\", fig, ax0, coordinates, vmax=maximum, zoom=False)\n",
    "ax0.set_title('MOLASSES', fontsize=16)\n",
    "\n",
    "ax1.cla()\n",
    "thickness1,maxval1 =victor.plot_benchmark(dem, \"./mr_lava_loba/Axisymmetric_000_thickness_masked.asc\", fig, ax1, coordinates, vmax=maximum, zoom=False,model=\"mrlavaloba\")\n",
    "ax1.set_title('MR LAVA LOBA', fontsize=16)\n",
    "ax1.set_aspect(\"equal\")\n",
    "\n",
    "ax2.cla()\n",
    "thickness2,maxval2 = victor.plot_benchmark(dem, \"./IMEX/Axisymmetric_0007.asc\", fig, ax2, coordinates, vmax=maximum, zoom=False)\n",
    "ax2.set_title('IMEX', fontsize=16)\n",
    "ax2.set_aspect(\"equal\")\n",
    "\n",
    "ax3.cla()\n",
    "ds = xr.open_dataset(\"lava2d/outputs/out.nc\",group=\"DATA/PHYSICS\")\n",
    "ds = ds.where(ds != 0)\n",
    "ds = ds.where(ds > 1e-1)\n",
    "ax3.imshow(ds['lava_thickness_total'], vmax=maximum*1000, cmap=\"Wistia\")\n",
    "ax3.set_xticks(np.linspace(0,161,5))\n",
    "ax3.set_yticks(np.linspace(0,161,5))\n",
    "ax3.set_xticklabels(ticks*1000)\n",
    "ax3.set_yticklabels(np.array(list(reversed(ticks)))*1000)\n",
    "ax3.set_title('LAVA2D', fontsize=16)\n",
    "ax3.set_aspect(\"equal\")\n",
    "\n",
    "cbar_ax = fig.add_axes([.25, 0, 0.5, 0.05])\n",
    "# fig.tight_layout()\n",
    "thickness = [thickness0, thickness1, thickness2, (ds['lava_thickness_total']/1000)]\n",
    "thickness = thickness[idx]\n",
    "fig.colorbar(thickness, cax=cbar_ax, label=\"Flow Thickness (m)\", orientation=\"horizontal\")"
   ]
  }
 ],
 "metadata": {
  "kernelspec": {
   "display_name": "Python [conda env:notebook] *",
   "language": "python",
   "name": "conda-env-notebook-py"
  },
  "language_info": {
   "codemirror_mode": {
    "name": "ipython",
    "version": 3
   },
   "file_extension": ".py",
   "mimetype": "text/x-python",
   "name": "python",
   "nbconvert_exporter": "python",
   "pygments_lexer": "ipython3",
   "version": "3.10.11"
  }
 },
 "nbformat": 4,
 "nbformat_minor": 5
}
