{
 "cells": [
  {
   "cell_type": "markdown",
   "id": "4705833e",
   "metadata": {},
   "source": [
    "## A simple Tephra2 workflow\n",
    "Tephra2 is used to simulate tephra fallout deposits associated with explosive volcanic eruptions. In the forward solution, eruptions source parameters (ESPs) are specified, a wind field is specified, and the map locations where tephra accumulation is calculated are specified. Tephra2 produces estimates of mass loading or grainsize distribution at these map locations based on the ESPs and wind data sets. \n",
    "\n",
    "Explore this workflow if you are interested in:\n",
    "1. Simulating an explosive eruption and generating an isomass map with Tephra2\n",
    "2. Learning about ESPs and their impact on tephra accumulation\n",
    "3. Creating input files for Tephra2\n",
    "4. Executing compiled codes from the notebook\n",
    "5. Manipulating model output with pandas and making simple contour plots.\n",
    "\n",
    "\n",
    "### The workflow\n",
    "The steps in this workflow are:\n",
    "1. Build a configuration file for Tephra2 consisting of eruption source parameters and save this file.\n",
    "2. Build a grid file for Tephra2 consisting of the points where tephra accumulation will be modeled, and save this file.\n",
    "3. Build a wind file for Tephra2 consisting of wind velocity as a function of height, and save this file\n",
    "4. Run Tephra2\n",
    "5. Parse the Tephra2 output to obtain isomass information\n",
    "6. Plot an isomass map from the parsed Tephra2 output.\n",
    "\n",
    "### A few notes for simplicity\n",
    "Unless explicitly written at the top of the cell, assume each cell needs to simply be run without alteration.\n",
    "\n",
    "\n",
    "### Some Tephra2 references and examples\n",
    "\n",
    "Bonadonna, C., Connor, C.B., Houghton, B.F., Connor, L., Byrne, M., Laing, A. and Hincks, T.K., 2005. Probabilistic modeling of tephra dispersal: Hazard assessment of a multiphase rhyolitic eruption at Tarawera, New Zealand. Journal of Geophysical Research: Solid Earth, 110(B3). <a href=\"https://agupubs.onlinelibrary.wiley.com/doi/pdf/10.1029/2003JB002896\">Link</a>\n",
    "\n",
    "\n",
    "run <a href=\"https://gscommunitycodes.usf.edu/geoscicommunitycodes/public/tephra2/tephra2.php\">Tephra2</a> interactively on the web\n",
    "\n",
    "### Required installed libraries for this workflow"
   ]
  },
  {
   "cell_type": "code",
   "execution_count": null,
   "id": "ba9c7c06",
   "metadata": {},
   "outputs": [],
   "source": [
    "import os  # needed to run tephra2 externally\n",
    "import pandas as pd #used to manipulate tephra2 output in this notebook\n",
    "import matplotlib.pyplot as plt # used to plot the isopach map\n",
    "import matplotlib.tri as tri # used to plot the isopach map\n",
    "import numpy as np\n",
    "import cdsapi #used to pull reanalysis data\n",
    "import netCDF4 #used to process downloaded netCDF format data\n",
    "import subprocess #for proper program running\n",
    "import utm\n",
    "#Optional flag for checking Github repo for newer version\n",
    "check_for_update = False"
   ]
  },
  {
   "cell_type": "markdown",
   "id": "117407d8",
   "metadata": {},
   "source": [
    "### The wind file\n",
    "Tephra2 requires that the wind velcocity be specifed as a function of height above the ground surface. The code in the following cells pulls wind reanalysis data and manipulates it to give Tephra2 compatible data. Change the values to change the wind velocity as a function of height in your simulation. Any number of wind heights may be specified by adding another pressure value. "
   ]
  },
  {
   "cell_type": "code",
   "execution_count": null,
   "id": "c7412179",
   "metadata": {},
   "outputs": [],
   "source": [
    "#INPUT DATE AND COORDINATE VALUES HERE\n",
    "\n",
    "#Coordinate location\n",
    "vent_latitude, vent_longitude = 22.3,33.4\n",
    "\n",
    "#Specify month(s) (in numerical string format, e.g. \"01\", \"11\")\n",
    "months = [\"01\"]\n",
    "\n",
    "#Specify year(s) (in numerical string format, e.g. \"1999\")\n",
    "years = [\"2005\"]\n",
    "\n",
    "#Specify day(s) (in numerical string format, e.g. \"01\", \"11\")\n",
    "days = [\"04\"]\n",
    "\n",
    "#Specify hour(s) in 24 hour string format (00:00 - 23:00)\n",
    "hours = ['06:00']\n",
    "\n",
    "#Specify pressure values to generate wind field around volcano\n",
    "\n",
    "#valid values are \n",
    "# ['1', '2', '3', '5', '7', '10', '20', '30', '50','70', '100', '125','150', '175', '200','225', '250', '300', '350', '400'\n",
    "# '450','500', '550', '600','650', '700', '750','775', '800', '825','850', '875', '900','925', '950', '975','1000']\n",
    "pressures = ['1','10','100','1000']\n",
    "\n",
    "#Specify name of output file, in netCDF format (optional, default is download.nc)\n",
    "file_name = []"
   ]
  },
  {
   "cell_type": "code",
   "execution_count": null,
   "id": "9a701452",
   "metadata": {},
   "outputs": [],
   "source": [
    "north = round(vent_latitude*4)/4\n",
    "south = north +.1\n",
    "east = round(vent_longitude*4)/4\n",
    "west = east - .1"
   ]
  },
  {
   "cell_type": "code",
   "execution_count": null,
   "id": "a4540576",
   "metadata": {},
   "outputs": [],
   "source": [
    "wind_data = cdsapi.Client()\n",
    "dataset = \"reanalysis-era5-pressure-levels\"\n",
    "request = {\n",
    "        \"product_type\": [\"reanalysis\"],\n",
    "        \"data_format\": \"netcdf\",\n",
    "        \"variable\": [\n",
    "            \"geopotential\", \"u_component_of_wind\", \"v_component_of_wind\",\n",
    "        ],\n",
    "        \"pressure_level\": pressures,\n",
    "        \"year\": years,\n",
    "        \"month\": months,\n",
    "        \"day\": days,\n",
    "        \"time\": hours,\n",
    "        \"download_format\": \"unarchived\",\n",
    "        \"area\": [\n",
    "            north, west, south, east\n",
    "        ],\n",
    "    }\n",
    "wind_data.retrieve(dataset, request, \"download.nc\")"
   ]
  },
  {
   "cell_type": "code",
   "execution_count": null,
   "id": "4df589e2",
   "metadata": {},
   "outputs": [],
   "source": [
    "wind = netCDF4.Dataset(\"download.nc\")"
   ]
  },
  {
   "cell_type": "code",
   "execution_count": null,
   "id": "34124228",
   "metadata": {},
   "outputs": [],
   "source": [
    "uwnd = wind[\"u\"][0,:,0,0]\n",
    "vwnd = wind[\"v\"][0,:,0,0]\n",
    "\n",
    "speed = np.sqrt(vwnd**2 + uwnd**2)\n",
    "direction = -180/np.pi *np.arctan(vwnd/uwnd)\n",
    "for d in range(len(direction)):\n",
    "    if uwnd[d] > 0:\n",
    "        direction[d] += 90\n",
    "    else:\n",
    "        direction[d] += 270\n",
    "\n",
    "hgt = (wind[\"z\"][0,:,0,0])/9.80665\n",
    "speed = speed[::-1]\n",
    "direction = direction[::-1]\n",
    "hgt = hgt[::-1]"
   ]
  },
  {
   "cell_type": "code",
   "execution_count": null,
   "id": "ebaf9485",
   "metadata": {},
   "outputs": [],
   "source": [
    "row2 = []\n",
    "for l in range(wind[\"pressure_level\"].shape[0]):\n",
    "    row2.append(str(hgt[l]) + ' ' + str(speed[l]) + ' ' + str(direction[l]))\n",
    "\n",
    "# Format of data islevel (masl) speed (m/s) direction that wind is blowing toward (degrees)\n",
    "wind_file = open(\"my_wind.dat\", \"w\")\n",
    "for element in row2:\n",
    "    wind_file.write(\"%s\\n\" % element)\n",
    "wind_file.close()"
   ]
  },
  {
   "cell_type": "markdown",
   "id": "34c7ba67",
   "metadata": {},
   "source": [
    "### The configuration file\n",
    "The Tephra2 configuration file contains all the ESPs information required to run the model.\n",
    "\n",
    "The Tephra2 code reads the configuration file and searchs for values associated with keywords. Change the values to change that eruption source parameter. Do not change the keyword.\n",
    "\n",
    "The keywords, definitions, units, and example values are as follows:\n",
    "1. VENT_EASTING: this is the easting (x) coordinate of the volcanic vent that produces the tephra. The value can be a local grid or an actual UTM grid value. Units are meters. Example: 450000 or 0\n",
    "2. VENT_NORTHING: this is the northing (y) coordinate of the volcanic vent that produces the tephra. The value can be a local grid or an actual UTM grid value. Units are meters. Example: 4500000 or 0\n",
    "3. VENT_ELEVATION: the elevation of the volcanic vent. Units are meters above sealevel. Example 1500\n",
    "4. PLUME_HEIGHT: the height of the top of the volcanic plume. Units are meters above sealevel. Example: 12000\n",
    "5. ERUPTION_MASS: the total mass of tephra produced by the eruption. Units are kg. Examples: 1e12, 10000000.\n",
    "6. MEDIAN_GRAINSIZE: the median of the total grainsize distribution of the eruption. Tephra2 assumes the total grainsize distribution is normally distributed. Units are $\\phi$. Examples: 0, -1, 1\n",
    "7. STD_GRAINSIZE: the standard deviation of the total grainsize distribution. Units are $\\phi$. Examples: 1, 2\n",
    "\n",
    "These seven values are required for accurate modeling of tephra. The following eleven parameters (8-19) may be left empty in place of default trusted values if data is unavailable."
   ]
  },
  {
   "cell_type": "code",
   "execution_count": null,
   "id": "899b8668",
   "metadata": {},
   "outputs": [],
   "source": [
    "converted = utm.from_latlon(vent_latitude,vent_longitude)\n",
    "\n",
    "vent_easting = converted[0]\n",
    "\n",
    "vent_northing = converted[1]\n",
    "\n",
    "vent_elevation = 1500\n",
    "\n",
    "plume_height = 12000\n",
    "\n",
    "eruption_mass = 1e10\n",
    "\n",
    "median_grain = 1\n",
    "\n",
    "std_grain = 1"
   ]
  },
  {
   "cell_type": "markdown",
   "id": "e593b2b0",
   "metadata": {},
   "source": [
    "### These parameters allow for additional specificity, but can be left blank to use defaults.\n",
    "\n",
    "8. FALL_TIME_THRESHOLD: the fall time threshold is the time at which diffusion laws switch in Tephra2, as different particle sizes have differnt diffusion in the atmosphere. Units are seconds. Examples: 1000, 1e6\n",
    "9. Plume model: The plume model descibed how tephra mass is distributed in the eruption column from the vent to the total height of the volcanic plume. Options are (1) using a uniform distribution, or (2) using a beta distribution. Dimensionless.\n",
    "10. PART_STEPS: Settling velocity is a function of grainsize. Tephra2 divides the total grainsize distribution into particles steps and calculates the settling velocity for each particle step. Dimensionless. Examples: 100, 200\n",
    "11. DIFFUSION_COEFFICIENT: The spreading of the plume perpendicular to the major axis of dispersion is controled by the diffusion coefficient. Units are meters squared per second. Examples: 300, 3000, 300000\n",
    "12. LITHIC_DENSITY: The density of small particles in the tephra. Units are kg/m^3. Examples are: 2600, 2800\n",
    "13. COL_STEPS: Tephra2 discretizes the eruption column. The number of column steps is how many layers occur in the plume from the vent to the total hieght of the plume. Units are meters. Examples: 100, 200\n",
    "14. MAX_GRAINSIZE: the maximum size of particles in the modeled plume. These particles must be small enough to be convected by the plume. Units are $\\phi$. Examples: -4, -3.5\n",
    "15. ALPHA: the alpha ($\\alpha$) parameter in the Beta distribution to control the mass of tephra released as a function of height in the erupiton column (PLUME_MODEL 2). Dimensionless. Example 1, 2\n",
    "16. BETA: the beta ($\\beta$) parameter in the Beta distribution to control the mass of tephra released as a function of height in the erupiton column (PLUME_MODEL 2). Dimensionless. Example 1, 2\n",
    "17. MIN_GRAINSIZE: the minimum size of particles in the modeled plume.  Units are $\\phi$. Examples: 4, 3.5 (note: aggregation is not considered in this model)\n",
    "18. PUMICE_DENSITY: The The density of large particles in the tephra. Units are kg/m^3. Examples are: 1000, 800\n",
    "19. EDDY_CONST: The turbulent eddy constant for the atmosphere. Units are meters sqaured per second. Example: 0.04"
   ]
  },
  {
   "cell_type": "code",
   "execution_count": null,
   "id": "9854390c-c6e6-45fb-a265-01ef6d0d8be7",
   "metadata": {},
   "outputs": [],
   "source": [
    "falltime_thresh = 0\n",
    "\n",
    "plume_model = 0\n",
    "\n",
    "part_steps = 0\n",
    "\n",
    "diffusion_coef = 100000\n",
    "\n",
    "lithic_density = 0\n",
    "\n",
    "col_steps = 0\n",
    "\n",
    "max_grain = 0\n",
    "\n",
    "alpha = 0\n",
    "\n",
    "beta = 0\n",
    "\n",
    "min_grain = 0\n",
    "\n",
    "pumice_density = 0\n",
    "\n",
    "eddy_const = 0"
   ]
  },
  {
   "cell_type": "code",
   "execution_count": null,
   "id": "006166c2",
   "metadata": {},
   "outputs": [],
   "source": [
    "# make a simple tephra2 config file\n",
    "row = []\n",
    "# Note: UTM coordinates are used \n",
    "# in this example we are simply\n",
    "# putting the UTM coordinates at 0,0\n",
    "# Units are meters\n",
    "row.append(\"# This is a tephra2 config file\")\n",
    "row.append('VENT_EASTING ' + str(vent_easting))\n",
    "row.append('VENT_NORTHING ' + str(vent_northing))\n",
    "\n",
    "#Units are meters above sea level\n",
    "row.append('VENT_ELEVATION ' + str(vent_elevation))\n",
    "row.append('PLUME_HEIGHT ' + str(plume_height))\n",
    "\n",
    "# Units are kg\n",
    "row.append('ERUPTION_MASS '+ str(eruption_mass))\n",
    "\n",
    "# Units are phi\n",
    "row.append('MEDIAN_GRAINSIZE ' + str(median_grain))\n",
    "row.append('STD_GRAINSIZE ' + str(std_grain))\n",
    "\n",
    "row.append(\"\".join(('FALL_TIME_THRESHOLD ', str(1000) if not falltime_thresh else str(falltime_thresh))))\n",
    "row.append(\"\".join(('PLUME_MODEL ', str(2) if not plume_model else str(plume_model))))\n",
    "row.append(\"\".join(('PART_STEPS ', str(100) if not part_steps else str(part_steps))))\n",
    "row.append(\"\".join(('DIFFUSION_COEFFICIENT ', str(3000.0) if not diffusion_coef else str(diffusion_coef))))\n",
    "row.append(\"\".join(('LITHIC_DENSITY ', str(2600.0) if not lithic_density else str(lithic_density))))\n",
    "row.append(\"\".join(('COL_STEPS ', str(200) if not col_steps else str(col_steps))))\n",
    "row.append(\"\".join(('MAX_GRAINSIZE ', str(-4) if not max_grain else str(max_grain))))\n",
    "row.append(\"\".join(('ALPHA ', str(1) if not alpha else str(alpha))))\n",
    "row.append(\"\".join(('BETA ', str(1) if not beta else str(beta))))\n",
    "row.append(\"\".join(('MIN_GRAINSIZE ', str(4) if not min_grain else str(min_grain))))\n",
    "row.append(\"\".join(('PUMICE_DENSITY ', str(1000.0) if not pumice_density else str(pumice_density))))\n",
    "row.append(\"\".join(('EDDY_CONST ', str(0.04) if not eddy_const else str(eddy_const))))\n",
    "\n",
    "\n",
    "config_file = open(\"my_esps.conf\", \"w\")\n",
    "for element in row:\n",
    "    config_file.write(element + \"\\n\")\n",
    "config_file.close()"
   ]
  },
  {
   "cell_type": "markdown",
   "id": "f5cd51bd",
   "metadata": {},
   "source": [
    "### The grid file\n",
    "The grid file is a simple list of locations and elevations where tephra accumulation will be calculated. Note that the elevations of all points in the grid file must be the same. This is because Tephra2 using an integral solution to the advection-diffusion equation to simplify the modeling. That is, the tephra accumulates on a flat topography.\n",
    "\n",
    "Alter the code in the following cell to create your own grid file. For now, the grid will center on the volcano/eruption point in a square."
   ]
  },
  {
   "cell_type": "code",
   "execution_count": null,
   "id": "4435640f",
   "metadata": {},
   "outputs": [],
   "source": [
    "#INPUT GRID PARAMETERS HERE\n",
    "\n",
    "#Specify easting of volcano\n",
    "vol_easting = round(converted[0])\n",
    "#Specify northing of volcano\n",
    "vol_northing = round(converted[1])\n",
    "\n",
    "#Specify distance around volcano (in meters, default 50km or 50,000 m)\n",
    "grid_radius = []\n",
    "\n",
    "#Specify spacing in grid (in meters, default 1km or 1,000 m)\n",
    "grid_spacing = []\n",
    "\n",
    "#Specify elevation of points, constant due to integral solution used (in meters, default 1,500 m)\n",
    "elevation = []"
   ]
  },
  {
   "cell_type": "code",
   "execution_count": null,
   "id": "6d2a8b75",
   "metadata": {},
   "outputs": [],
   "source": [
    "# create the tephra2 grid\n",
    "#in this example, the grid is 1 km x 1km, the volcano is located\n",
    "# at 0,0 (km) and the grid extends 50 km from the volcano (rectangle)\n",
    "\n",
    "# the data in the grid file always have the form\n",
    "# easting northing elevation\n",
    "\n",
    "min_easting = vol_easting-50000 if not grid_radius else vol_easting-grid_radius\n",
    "max_easting = vol_easting+50000 if not grid_radius else vol_easting+grid_radius\n",
    "min_northing = vol_northing-50000 if not grid_radius else vol_northing-grid_radius\n",
    "max_northing = vol_northing+50000 if not grid_radius else vol_northing+grid_radius\n",
    "grid_size = 1000 if not grid_spacing else grid_spacing\n",
    "elevation = 1500 if not elevation else elevation\n",
    "\n",
    "with open(\"volcano_cone.grid\", \"w\") as output_file:\n",
    "    for i in range (min_easting, max_easting, grid_size):\n",
    "        for j in range (min_northing, max_northing, grid_size):\n",
    "            if (i != vol_easting and j != vol_northing):\n",
    "                print(i, j, elevation, file = output_file)\n",
    "            \n"
   ]
  },
  {
   "cell_type": "markdown",
   "id": "66d136d9",
   "metadata": {},
   "source": [
    "### Running Tephra2\n",
    "The following script runs Tephra2. The files:\n",
    "\n",
    "1. configuration file\n",
    "2. grid file\n",
    "3. wind file\n",
    "\n",
    "must be created first. See examples in previous cells in this notebook.\n",
    "The command creates the tephra2.out file, in which output is stored.\n",
    "\n"
   ]
  },
  {
   "cell_type": "code",
   "execution_count": null,
   "id": "e0386651",
   "metadata": {},
   "outputs": [],
   "source": [
    "# this command runs tephra2\n",
    "# tephra2 must be installed and accessible from the local directory\n",
    "if check_for_update:\n",
    "    os.chdir('../tephra2')\n",
    "    subprocess.run('git pull > out.txt')\n",
    "    f = open(\"out.txt\",'r')\n",
    "    line = f.readline()\n",
    "    if line == \"Already up to date.\\n\":\n",
    "        os.remove('out.txt')\n",
    "    else:\n",
    "        subprocess.run(\"make\")\n",
    "        os.chdir(\"../Workflows\")\n",
    "subprocess.run('./../tephra2/tephra2_2020 my_esps.conf volcano_cone.grid my_wind.dat > tephra2.csv',shell=True)\n"
   ]
  },
  {
   "cell_type": "markdown",
   "id": "c313094f",
   "metadata": {},
   "source": [
    "### Manipulating Tephra2 output\n",
    "The script in the following cell manipulates the tephra2 output. First, it reads the output file into a pandas dataframe. There is a lot of information in this dataframe. In this example, the easting, northing, and mass loading are extracted from the dataframe for each location in the grid file (where tephra accumulation was calculated). \n",
    "\n",
    "These extracted data are stored as lists, for ease in plotting."
   ]
  },
  {
   "cell_type": "code",
   "execution_count": null,
   "id": "4f622452",
   "metadata": {},
   "outputs": [],
   "source": [
    "#use pandas to parse the output file\n",
    "# in this case, ignore the granulometry and capture the tephra thickness data\n",
    "# since the goal is to make an isomass map\n",
    "tephra_out = pd.read_csv('tephra2.csv', delim_whitespace=True)\n",
    "\n",
    "#extract rows from the pandas dataframe and convert to lists for easy plotting\n",
    "easting = tephra_out['#EAST'].tolist()\n",
    "northing = tephra_out['NORTH'].tolist()\n",
    "mass = tephra_out['Kg/m^2'].tolist()\n"
   ]
  },
  {
   "cell_type": "markdown",
   "id": "c008910b",
   "metadata": {},
   "source": [
    "### Plotting the isomass map\n",
    "The following script is an example of one way to plot a Tephra2 isomass data."
   ]
  },
  {
   "cell_type": "code",
   "execution_count": null,
   "id": "97e685dd",
   "metadata": {},
   "outputs": [],
   "source": [
    "#SET DISPLAY INPUTS HERE\n",
    "\n",
    "#Specify levels in which solid countour lines should be generated\n",
    "levels_solid = []\n",
    "\n",
    "#Specify intermediate dashed lines for contour\n",
    "levels_dashed = []\n",
    "\n",
    "#specify filetype (jpg, png, pdf, svg)\n",
    "fileext = \"svg\""
   ]
  },
  {
   "cell_type": "code",
   "execution_count": null,
   "id": "c22e2238",
   "metadata": {},
   "outputs": [],
   "source": [
    "# plot a simple isomass map\n",
    "import cartopy.crs as ccrs\n",
    "from cartopy.io.img_tiles import Stamen\n",
    "import matplotlib.pyplot as plt\n",
    "\n",
    "# plot contours in kg/m^2 with solid lines\n",
    "cntr2 = plt.tricontour(easting, northing, mass, levels=[1,10,100,1000,10000] if not levels_solid else levels_solid,\n",
    "        colors=('k',),linestyles=('-',),linewidths=(1,))\n",
    "\n",
    "#plot contours in kg/m^2 with dashed lines\n",
    "cntr3 = plt.tricontour(easting, northing, mass, levels=[5,50,500] if not levels_dashed else levels_dashed,\n",
    "        colors=('k',),linestyles=('dashed',),linewidths=(0.5,))\n",
    "\n",
    "#label contours of solid lines\n",
    "plt.clabel(cntr2, fmt = '%2.1d', colors = 'k', fontsize=6) #contour line labels\n",
    "\n",
    "#plot the volcano location\n",
    "plt.plot(vol_easting,vol_northing, \"k^\")\n",
    "\n",
    "#map the map square\n",
    "plt.axis(\"square\")\n",
    "plt.rcParams[\"figure.figsize\"]=(20, 20)\n",
    "plt.xlabel(\"Easting (m)\")\n",
    "plt.ylabel(\"Northing (m)\")\n",
    "plt.savefig(\"tephra_contour.\"+fileext)\n",
    "plt.grid(True)\n",
    "plt.show()"
   ]
  },
  {
   "cell_type": "code",
   "execution_count": null,
   "id": "e971aca5-ce73-497b-842a-ec34c70cdbb9",
   "metadata": {},
   "outputs": [],
   "source": []
  }
 ],
 "metadata": {
  "kernelspec": {
   "display_name": "Python [conda env:notebook] *",
   "language": "python",
   "name": "conda-env-notebook-py"
  },
  "language_info": {
   "codemirror_mode": {
    "name": "ipython",
    "version": 3
   },
   "file_extension": ".py",
   "mimetype": "text/x-python",
   "name": "python",
   "nbconvert_exporter": "python",
   "pygments_lexer": "ipython3",
   "version": "3.10.13"
  },
  "vscode": {
   "interpreter": {
    "hash": "1b15b47e994a45b2c1c9c2019b348cb81bbb68780db9285c808c045d049d064a"
   }
  }
 },
 "nbformat": 4,
 "nbformat_minor": 5
}
