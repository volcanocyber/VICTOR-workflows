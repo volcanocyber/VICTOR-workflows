{
 "cells": [
  {
   "cell_type": "markdown",
   "metadata": {},
   "source": [
    "# HAZMAP\n",
    "\n",
    "Hazmap is a computer program for simulating sedimentation of volcanic particles from discrete point sources. It can provide both ground deposits as well as probabilities of being over a given loading threshold.\n",
    "\n",
    "Given that the main input file is very extensive, and multiple files are neccesary, we advise that you either refer to [this](https://digital.csic.es/bitstream/10261/241364/2/Manual-hazmap-2.4.4.pdf) document, or use the `GENINP` utility for the creation of the main file, and then source the easier to create files such as the wind profile."
   ]
  },
  {
   "cell_type": "markdown",
   "metadata": {},
   "source": [
    "### Wind Input File\n",
    "\n",
    "The wind profiles used by HAZMAP are defined in the file winds.dat. In this file an arbitrary number of wind profiles can be specified. We provide an example file for the user to edit as necessary. If HAZMAP is used in *deposit mode*, then only the first wind profile is read and used. In *probability mode* all the wind profiles are used for producing the probability map. The file winds.dat has the following format:\n",
    "\n",
    "- The first record defines the number of z-levels where\n",
    "the wind velocities are measured (NLEV).\n",
    "- The following NLEV records specify the height of z-\n",
    "levels (in meters).\n",
    "- One or more groups of NLEV records six fields\n",
    "(Year, Month, Day, Level, VX ; VY ). Only the\n",
    "velocity components VX and VY are used by HAZMAP. The level number is also read by HAZMAP for\n",
    "an internal consistency check."
   ]
  },
  {
   "cell_type": "code",
   "execution_count": 1,
   "metadata": {},
   "outputs": [],
   "source": [
    "import matplotlib.pyplot as plt\n",
    "import pandas as pd\n",
    "import numpy as np\n",
    "import netCDF4 as nc\n",
    "import os\n",
    "import subprocess\n",
    "import xarray as xr\n",
    "import rioxarray as rxr\n",
    "import cartopy.crs as ccrs\n",
    "import cartopy.feature as cfeature\n",
    "from cartopy.io.img_tiles import Stamen\n",
    "import utm"
   ]
  },
  {
   "cell_type": "markdown",
   "metadata": {},
   "source": [
    "### Input File \n",
    "\n",
    "HAZMAP allows the user to provide their own input file, but we advise using this simplified path that creates the input for you.\n",
    "\n",
    "Additionally, set `savefig` to False if you do not want to save the figure. Set `cleanup` to false if you want to keep all files."
   ]
  },
  {
   "cell_type": "code",
   "execution_count": 2,
   "metadata": {},
   "outputs": [],
   "source": [
    "generate_input = True\n",
    "savefig = True\n",
    "cleanup = False"
   ]
  },
  {
   "cell_type": "markdown",
   "metadata": {},
   "source": [
    "### Below, enter 0/1 (no/yes unless otherwise specified) for the following options."
   ]
  },
  {
   "cell_type": "code",
   "execution_count": 3,
   "metadata": {},
   "outputs": [],
   "source": [
    "#Select 0/1 for deposit/probability\n",
    "mode = 0\n",
    "\n",
    "#Select 0/1 for uniform/from file\n",
    "grid_type = 0\n",
    "\n",
    "#Select settling velocity model (0/1)\n",
    "settling_v = 1\n",
    "\n",
    "#Toggle if settling velocity is a function of z (0/1)\n",
    "sv_func_z = 1\n",
    "\n",
    "#Toggle output of cell coordinates to grid.out file (0/1)\n",
    "write_cell_coords = 0\n",
    "\n",
    "#output particle spectra to file (0/1)\n",
    "write_particle_spectra = 0\n",
    "\n",
    "#Toggle output of settling velocity to vset.out (0/1)\n",
    "write_settling = 0"
   ]
  },
  {
   "cell_type": "markdown",
   "metadata": {},
   "source": [
    "### Below, please set grid specifications.\n",
    "\n",
    "This include both spacing, as well as overall mass, its origin, and ditribution."
   ]
  },
  {
   "cell_type": "code",
   "execution_count": 4,
   "metadata": {},
   "outputs": [],
   "source": [
    "#set grid type format (irregular = 1, deposit/probability = 2, grd ascii file = 3, grd binary file = 4), 2 is default\n",
    "form = 2\n",
    "\n",
    "#input number of x and y cells for grid from file (two ints with space in between)\n",
    "num_grid_cells = \"200 200\"\n",
    "\n",
    "#input grid spacing for uniform grid( two ints or floats with space in between)\n",
    "grid_spacing = \"400 400\"\n",
    "\n",
    "#center coordinate in UTM (two ints with a space in between)\n",
    "center_coord = \"451469. 4518977\"\n",
    "\n",
    "#Total mass (scientific notation)\n",
    "total_mass = \"5.0E11\"\n",
    "\n",
    "#Select mass distribution model from file/Suzuki model (0/1)\n",
    "mass_distrib = 1\n",
    "\n",
    "#UTM coordiantes of grid\n",
    "coord_vent = \"451469. 4518977. 0.0\""
   ]
  },
  {
   "cell_type": "markdown",
   "metadata": {},
   "source": [
    "### Below, please set values relating to the altitude and general diffusion structure of the particles."
   ]
  },
  {
   "cell_type": "code",
   "execution_count": 5,
   "metadata": {},
   "outputs": [],
   "source": [
    "#height of column, meters above sea level\n",
    "column_height = 17000\n",
    "\n",
    "#input number of vertical source points\n",
    "vert_src_points = 36\n",
    "\n",
    "#Input the two Suzuki coefficients for the model (two ints with a space in between)\n",
    "suzuki_coeffs = \"4. 1.\"\n",
    "\n",
    "#Input diffusion coefficient\n",
    "diffusion_coeff = 5000\n",
    "\n",
    "#Input integer number of loading threshold values\n",
    "num_loading_threshold = 10\n",
    "\n",
    "#input num_loading_threshold amount of thresholds\n",
    "thresholds = \"100 200 300 400 500 600 700 800 900 1000\""
   ]
  },
  {
   "cell_type": "markdown",
   "metadata": {},
   "source": [
    "### Particle Parameters\n",
    "\n",
    "Please set the number of particle types, along with corresponding input lists of diameters, densities, shapes, and weight percentages."
   ]
  },
  {
   "cell_type": "code",
   "execution_count": 6,
   "metadata": {},
   "outputs": [],
   "source": [
    "#number of particle types \n",
    "num_particle_types = 10\n",
    "\n",
    "diameters = [\"15.62e-6\",\"31.25e-6\",\"62.50e-6\",\"125.0e-6\",\"250.0e-6\",\"500.0e-6\",\"1.000e-3\",\"2.000e-3\",\"4.000e-3\",\"8.000e-3\"]\n",
    "\n",
    "densities = [2500,2500,2500,2500,2500, 1700,1700, 1400,1400,1400]\n",
    "\n",
    "shapes = [1,1,1,1,1,1,1,1,1,1]\n",
    "\n",
    "weight_percent = [7,10,12,21,17,10,9,8,5,1]"
   ]
  },
  {
   "cell_type": "markdown",
   "metadata": {},
   "source": [
    "### Run The Model\n",
    "\n",
    "All subsequent cells can be run without user interaction\n",
    "\n",
    "The following three cells are involved with proper formatting of files. The next three run the model, format the output into a standardized format, and plot the isomass lines."
   ]
  },
  {
   "cell_type": "code",
   "execution_count": 7,
   "metadata": {},
   "outputs": [],
   "source": [
    "geninp = f'''{mode}\n",
    "{grid_type}\n",
    "{settling_v}\n",
    "{sv_func_z}\n",
    "{write_cell_coords}\n",
    "{write_particle_spectra}\n",
    "{write_settling}\n",
    "{form}\n",
    "{num_grid_cells}\n",
    "{grid_spacing}\n",
    "{center_coord}\n",
    "{total_mass}              \n",
    "{mass_distrib}\n",
    "{coord_vent}\n",
    "{column_height}\n",
    "{vert_src_points}\n",
    "{suzuki_coeffs}\n",
    "{diffusion_coeff}\n",
    "{num_loading_threshold}\n",
    "{thresholds}\n",
    "{num_particle_types}\n",
    "'''"
   ]
  },
  {
   "cell_type": "code",
   "execution_count": 8,
   "metadata": {},
   "outputs": [],
   "source": [
    "particles = \"\"\n",
    "for i in range(10):\n",
    "    particles += \"%s  %d %d %.1f\\n\" % (diameters[i], densities[i], shapes[i], weight_percent[i])\n",
    "combined = geninp+particles\n",
    "gen = open(\"geninp.inp\",'w')\n",
    "gen.write(combined)\n",
    "gen.close()"
   ]
  },
  {
   "cell_type": "code",
   "execution_count": 9,
   "metadata": {},
   "outputs": [
    {
     "name": "stdout",
     "output_type": "stream",
     "text": [
      "Sum of particles percentages = 100.000%\n",
      "Sum of mass sources fractions=   1.0000    \n"
     ]
    }
   ],
   "source": [
    "if generate_input:\n",
    "    subprocess.run(\"./geninp geninp.inp\",shell=True)"
   ]
  },
  {
   "cell_type": "code",
   "execution_count": 10,
   "metadata": {},
   "outputs": [
    {
     "name": "stdout",
     "output_type": "stream",
     "text": [
      "hazmap 2.4.4\n",
      " * Lower wind Z-level is not 0. (extrapolated).\n",
      "Mode: Deposit\n",
      "TOTAL MASS =  0.50000E+12\n",
      "Deposit mass= 0.15854E+12 (approximate)\n",
      "Wrote output file (ASCII): hazmap.out\n",
      " Min Load=   3.17789996E-28\n",
      " Max Load=   1037.00000    \n",
      " Using UTM coordinates\n"
     ]
    },
    {
     "data": {
      "text/plain": [
       "CompletedProcess(args='./haz2nc hazmap.out', returncode=0)"
      ]
     },
     "execution_count": 10,
     "metadata": {},
     "output_type": "execute_result"
    }
   ],
   "source": [
    "subprocess.run(\"./hazmap\",shell=True)\n",
    "subprocess.run(\"./haz2nc hazmap.out\",shell=True)"
   ]
  },
  {
   "cell_type": "code",
   "execution_count": 11,
   "metadata": {},
   "outputs": [],
   "source": [
    "ds = xr.load_dataarray(\"hazmap.nc\")\n",
    "coords = coord_vent.split()[:-1]\n",
    "coords = [int(coor[:-1]) for coor in coords]"
   ]
  },
  {
   "cell_type": "code",
   "execution_count": 12,
   "metadata": {
    "tags": []
   },
   "outputs": [
    {
     "data": {
      "image/png": "[encoded data removed]",
      "text/plain": [
       "<Figure size 640x480 with 1 Axes>"
      ]
     },
     "metadata": {},
     "output_type": "display_data"
    }
   ],
   "source": [
    "fig, ax = plt.subplots()\n",
    "plotted = ds.plot.contour()\n",
    "plotted.clabel(colors=\"black\")\n",
    "plt.ylabel(\"Northing\")\n",
    "plt.title(r'Ground Deposit Isomass Lines $(kg/m^2)$')\n",
    "plt.grid()\n",
    "if savefig:\n",
    "    plt.savefig(\"hazmap.svg\")"
   ]
  },
  {
   "cell_type": "code",
   "execution_count": 13,
   "metadata": {},
   "outputs": [],
   "source": [
    "if cleanup:\n",
    "    os.remove(\"geninp.inp\")\n",
    "    os.remove(\"hazmap.inp\")\n",
    "    os.remove(\"hazmap.out\")"
   ]
  }
 ],
 "metadata": {
  "kernelspec": {
   "display_name": "Python 3 (ipykernel)",
   "language": "python",
   "name": "python3"
  },
  "language_info": {
   "codemirror_mode": {
    "name": "ipython",
    "version": 3
   },
   "file_extension": ".py",
   "mimetype": "text/x-python",
   "name": "python",
   "nbconvert_exporter": "python",
   "pygments_lexer": "ipython3",
   "version": "3.10.11"
  },
  "vscode": {
   "interpreter": {
    "hash": "916dbcbb3f70747c44a77c7bcd40155683ae19c65e1c03b4aa3499c5328201f1"
   }
  }
 },
 "nbformat": 4,
 "nbformat_minor": 4
}
