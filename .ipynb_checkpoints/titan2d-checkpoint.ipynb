{
 "cells": [
  {
   "cell_type": "markdown",
   "metadata": {},
   "source": [
    "# A model workflow for TITAN2D"
   ]
  },
  {
   "cell_type": "markdown",
   "metadata": {},
   "source": [
    "### TITAN2D is a geoflow simulation tool that, given initial parameters, will simulate granular flows over digital elevation models, or DEMs. "
   ]
  },
  {
   "cell_type": "markdown",
   "metadata": {},
   "source": [
    "### Importing Libraries"
   ]
  },
  {
   "cell_type": "code",
   "execution_count": 1,
   "metadata": {},
   "outputs": [],
   "source": [
    "import subprocess\n",
    "import pandas as pd\n",
    "import numpy as np\n",
    "import sys\n",
    "import matplotlib.pyplot as plt\n",
    "import os\n",
    "import rioxarray as rxr\n",
    "import rasterio as rio\n",
    "import h5py\n",
    "import cartopy.crs as ccrs"
   ]
  },
  {
   "cell_type": "code",
   "execution_count": 2,
   "metadata": {},
   "outputs": [],
   "source": [
    "sys.path.insert(0, \"/home/jovyan/shared/Libraries\")\n",
    "import victor"
   ]
  },
  {
   "cell_type": "markdown",
   "metadata": {},
   "source": [
    "### For reference, the TITAN2D user guide is [attached](https://raw.githubusercontent.com/TITAN2D/titan2d/master/doc/Titan2D_User_Guide.pdf). \n",
    "\n",
    "Keep in mind that for the **GIS_GRASS** type, multiple arguments to specify file mapset/map locations are neccesary, and the DEM location for the **GDAL** format. Additionally, the GDAL format requires a geotiff, rather than an ascii shapefile. We highly recommend the **GDAL** format."
   ]
  },
  {
   "cell_type": "markdown",
   "metadata": {},
   "source": [
    "There are a variety of interesting but largely unecessary files that are output at the end of the simulation. Toggle the option below to remove them.\n",
    "\n",
    "If you would like to create a gif of all the timesteps, please enable the option below. Keep in mind, this may take many minutes, depending on the number of iterations."
   ]
  },
  {
   "cell_type": "code",
   "execution_count": null,
   "metadata": {},
   "outputs": [],
   "source": [
    "cleanup = False\n",
    "\n",
    "create_gif = True"
   ]
  },
  {
   "cell_type": "markdown",
   "metadata": {},
   "source": [
    "### Vital general parameters. \n",
    "\n",
    "In the cell below, choose the format of the DEM and specify its path. Then, provide a scale for the simulation to accomidate, as well as the gravity of the planet being simulated. Properties to constrain the simulation time and/or number of interations are another optional input. Choosing the frequency of outputs by either iteration number and/or simulator time is vital to having comprehensive time series analysis."
   ]
  },
  {
   "cell_type": "code",
   "execution_count": 3,
   "metadata": {},
   "outputs": [],
   "source": [
    "#Choose from GIS_GRASS or GDAL, latter is default\n",
    "gis_format='GDAL'\n",
    "\n",
    "#Path to the DEM\n",
    "dem=\"/home/jovyan/shared/DEMs/colimafinemini.geotiff\"\n",
    "\n",
    "#Length scale for simulation\n",
    "length_scale=4000.0\n",
    "\n",
    "#Gravity for simulation\n",
    "gravity=9.8\n",
    "\n",
    "#Set maximum iterations of the simulation, add second line to set limit in simulation seconds\n",
    "max_iter=4000\n",
    "max_time=None\n",
    "\n",
    "#Set frequency and format of outputs\n",
    "\n",
    "#choose from {'xdmf', 'tecplot', 'meshplot','grasssites'}\n",
    "#We recommend xdmf for use with paraview\n",
    "vizoutput=\"xdmf\"\n",
    "\n",
    "#Set interval for model output, either number of iterations or number of simulation seconds, though both are valid\n",
    "diter=100\n",
    "dtime=None"
   ]
  },
  {
   "cell_type": "markdown",
   "metadata": {},
   "source": [
    "### Numerical parameters\n",
    "\n",
    "Here, please input the numeric parameters, such as adaptive mesh refinement and level of differential equation solving. \n",
    "\n",
    "AMR allows for scaling graularity of the flow for maximum accuracy. Als, please specify the number of cells that the pile will occupy at time $t=0$."
   ]
  },
  {
   "cell_type": "code",
   "execution_count": 4,
   "metadata": {},
   "outputs": [],
   "source": [
    "#Enable adaptive mesh refinements\n",
    "AMR=True\n",
    "\n",
    "#Number of elements across smallest pile axis in the beginning of the simulation\n",
    "number_of_cells_across_axis=16\n",
    "    \n",
    "#Numerical PDE solver order,{'First','Second'} is set of choices\n",
    "order='First'"
   ]
  },
  {
   "cell_type": "markdown",
   "metadata": {},
   "source": [
    "### Material Model \n",
    "\n",
    "The final required method is the material model used. \n",
    "\n",
    "Depending on the selection, a variety of parameters are required. We choose a simple material interaction model with *Coulomb* by default, but other materials and their required values are clearly supplied in the manual linked above."
   ]
  },
  {
   "cell_type": "code",
   "execution_count": 5,
   "metadata": {},
   "outputs": [],
   "source": [
    "#Set moving material model, choose from 'Coulomb', 'TwoPhases-Pitman-Le', 'Voellmy-Salm' or 'Pouliquen-Forterre'\n",
    "model='Coulomb'\n",
    "\n",
    "#Set internal friction angle\n",
    "int_frict=37.0\n",
    "\n",
    "#Set bed friction angle\n",
    "bed_frict=27.0"
   ]
  },
  {
   "cell_type": "markdown",
   "metadata": {},
   "source": [
    "### (Optional) Add Pile\n",
    "\n",
    "Extra piles or additional areas of geoflow flux can optionally be added. \n",
    "\n",
    "We need at least one pile by default, but multiple can be added."
   ]
  },
  {
   "cell_type": "code",
   "execution_count": 6,
   "metadata": {},
   "outputs": [],
   "source": [
    "#Flag to set a pile of debris, will not be included unless set to True\n",
    "addPile = True\n",
    "\n",
    "#Choose from {Paraboloid, Cylinder}\n",
    "pile_type='Cylinder'\n",
    "\n",
    "#Meters, self explanitory\n",
    "height=30.0\n",
    "\n",
    "#UTM x,y values of pile\n",
    "pile_center=[644956.0, 2157970.0]\n",
    "\n",
    "#Major, minor radius in m of pile\n",
    "pile_radii=[55.0, 55.0]"
   ]
  },
  {
   "cell_type": "markdown",
   "metadata": {},
   "source": [
    "### (Optional) Add flux\n",
    "\n",
    "The flux here is an optional additional event.\n",
    "\n",
    "We default to not adding it in this example workflow, but provide the ability to enable it with a simple flag. This will add a linearly decreasing source between two set times. "
   ]
  },
  {
   "cell_type": "code",
   "execution_count": 7,
   "metadata": {},
   "outputs": [],
   "source": [
    "#Flag to add an additional source of flux\n",
    "addFlux = False\n",
    "\n",
    "influx=3.3\n",
    "\n",
    "#Set start time in simulation seconds\n",
    "start_time=10\n",
    "\n",
    "#Set end time in simulation seconds\n",
    "end_time=20\n",
    "\n",
    "#UTM x,t values of flux \n",
    "flux_center=[633394.0, 2163411.0]\n",
    "\n",
    "#Major, minor radius in m of flux\n",
    "flux_radii=[33.0,33.0]"
   ]
  },
  {
   "cell_type": "markdown",
   "metadata": {},
   "source": [
    "### (Optional) Discharge Plane\n",
    "\n",
    "The discharge plane below is another optional addition.\n",
    "\n",
    "By setting UTM coordinates for the beginning and endpoints, the model will calculate the amount in cubic meters that passes between those two points. It is disabled by default for simplicity's sake."
   ]
  },
  {
   "cell_type": "code",
   "execution_count": 8,
   "metadata": {},
   "outputs": [],
   "source": [
    "#Set flag for discharge plane, oterwise will be ignored\n",
    "addDischargePlane = False\n",
    "\n",
    "#Below, set UTM bounds for the discharge plane\n",
    "x_a=637380.0\n",
    "\n",
    "y_a=2145800.0,\n",
    "\n",
    "x_b=664380.0\n",
    "\n",
    "y_b=2169800.0"
   ]
  },
  {
   "cell_type": "markdown",
   "metadata": {},
   "source": [
    "### Please run this cell to format the input"
   ]
  },
  {
   "cell_type": "code",
   "execution_count": 9,
   "metadata": {},
   "outputs": [],
   "source": [
    "inp = f\"\"\"sim=TitanSimulation(overwrite_output=True)\n",
    "\n",
    "sim.setGIS(\n",
    "    gis_format='{gis_format}',\n",
    "    gis_map='{dem}'\n",
    ")\n",
    "\n",
    "sim.setScale(\n",
    "    length_scale={length_scale},\n",
    "    gravity_scale={gravity},\n",
    ")\n",
    "\n",
    "sim.setNumProp(\n",
    "    AMR={AMR},\n",
    "    number_of_cells_across_axis={number_of_cells_across_axis},\n",
    "    order='{order}',\n",
    ")\n",
    "sim.setMatModel(\n",
    "    model='{model}',\n",
    "    int_frict={int_frict},\n",
    "    bed_frict={bed_frict}\n",
    ")\n",
    "\"\"\"\n",
    "if addPile:\n",
    "    inp+=f\"\"\"sim.addPile( \n",
    "    pile_type='{pile_type}',\n",
    "    height={height},\n",
    "    center={pile_center},\n",
    "    radii={pile_radii}\n",
    ")\n",
    "\"\"\"\n",
    "if addFlux:\n",
    "    inp+=f\"\"\"sim.addFluxSource(\n",
    "    pile_type='{pile_type}',\n",
    "    influx={influx},\n",
    "    start_time={start_time}\n",
    "    end_time={end_time},\n",
    "    center={flux_center},\n",
    "    radii={flux_radii}\n",
    ")\n",
    "\"\"\"\n",
    "if addDischargePlane:\n",
    "    inp+=f\"\"\"sim.addDischargePlane(\n",
    "    x_a={x_a},\n",
    "    y_a={y_a},\n",
    "    x_b={x_b}, \n",
    "    y_b={y_b}\n",
    ")\n",
    "\"\"\"\n",
    "inp+= f\"\"\"sim.setTimeProps(\n",
    "    max_iter={max_iter},\"\"\"\n",
    "if max_time is not None:\n",
    "    inp += f\"\"\",\n",
    "    max_time={max_time}\"\"\"\n",
    "inp += f\"\"\"\n",
    ")\n",
    "\n",
    "sim.setTimeSeriesOutput(\n",
    "    vizoutput=('{vizoutput}'),\n",
    "    diter={diter},\n",
    "\"\"\"\n",
    "if dtime is not None:\n",
    "    inp += f\"\"\",\n",
    "    max_time={dtime}\"\"\"\n",
    "inp += f\"\"\"\n",
    ")\n",
    "#start simulation\n",
    "sim.run()\"\"\"\n",
    "with open(\"input.py\",'w') as f:\n",
    "    f.write(inp)"
   ]
  },
  {
   "cell_type": "markdown",
   "metadata": {},
   "source": [
    "### Specify the number of threads you would like to use here. \n",
    "\n",
    "We don't recommend any more than the number of CPUs you chose on startup."
   ]
  },
  {
   "cell_type": "code",
   "execution_count": 10,
   "metadata": {},
   "outputs": [],
   "source": [
    "threads = 2"
   ]
  },
  {
   "cell_type": "markdown",
   "metadata": {},
   "source": [
    "### Run Titan here!\n",
    "\n",
    "Titan outputs updates at **every** timestep, so we suppress the output here for clarity."
   ]
  },
  {
   "cell_type": "code",
   "execution_count": 11,
   "metadata": {
    "tags": []
   },
   "outputs": [
    {
     "data": {
      "text/plain": [
       "CompletedProcess(args='./titan -nt 2 input.py', returncode=0)"
      ]
     },
     "execution_count": 11,
     "metadata": {},
     "output_type": "execute_result"
    }
   ],
   "source": [
    "subprocess.run(\"./titan -nt \" + str(threads) + \" input.py\",shell=True,stdout=subprocess.DEVNULL)"
   ]
  },
  {
   "cell_type": "markdown",
   "metadata": {},
   "source": [
    "### Select Output Time\n",
    "\n",
    "Here, please choose a point in the time series to display.\n",
    "\n",
    "Every cell after the step input can be run without alteration."
   ]
  },
  {
   "cell_type": "code",
   "execution_count": 12,
   "metadata": {},
   "outputs": [
    {
     "name": "stdout",
     "output_type": "stream",
     "text": [
      "From this simulation, we have 40 ( 0 - 39 ) steps. Please input below what snapshot you would like to see.\n"
     ]
    }
   ],
   "source": [
    "print(\"From this simulation, we have\", int(np.ceil(max_iter/diter)), \"( 0 -\", int(np.ceil(max_iter/diter)) - 1 ,\") steps. Please input below what snapshot you would like to see.\")"
   ]
  },
  {
   "cell_type": "code",
   "execution_count": 13,
   "metadata": {},
   "outputs": [],
   "source": [
    "step = 33"
   ]
  },
  {
   "cell_type": "markdown",
   "metadata": {},
   "source": [
    "### Plotting the Output"
   ]
  },
  {
   "cell_type": "code",
   "execution_count": null,
   "metadata": {},
   "outputs": [],
   "source": [
    "fig = plt.figure(figsize=(12, 8))\n",
    "ax = plt.axes(projection=ccrs.epsg(32628))\n",
    "\n",
    "victor.plot_titan(dem, step,fig, ax, pile_center, diter)"
   ]
  },
  {
   "cell_type": "code",
   "execution_count": null,
   "metadata": {},
   "outputs": [],
   "source": [
    "!Rscript conv2.R"
   ]
  },
  {
   "cell_type": "code",
   "execution_count": null,
   "metadata": {},
   "outputs": [],
   "source": [
    "pile_colima = rxr.open_rasterio(\"pile_colima.asc\",masked=True)\n",
    "colima = rxr.open_rasterio(dem,masked=True)\n",
    "pile_colima = pile_colima.where(pile_colima.values > .01)\n",
    "colima.plot(cmap=\"Grays\")\n",
    "pile_colima.plot(cmap=\"hot\")"
   ]
  },
  {
   "cell_type": "code",
   "execution_count": null,
   "metadata": {},
   "outputs": [],
   "source": [
    "if create_gif:\n",
    "    fig = plt.figure(figsize=(12, 8))\n",
    "    ax = plt.axes(projection=ccrs.epsg(32628))\n",
    "    victor.make_titan_gif(dem,fig, ax,pile_center,max_iter,diter,\"victor.gif\")\n",
    "    subprocess.run(\"rm flow_*.png\", shell=True)"
   ]
  },
  {
   "cell_type": "code",
   "execution_count": null,
   "metadata": {},
   "outputs": [],
   "source": [
    "if cleanup:\n",
    "    subprocess.run(\"rm *.-00001\", shell=True)"
   ]
  }
 ],
 "metadata": {
  "kernelspec": {
   "display_name": "Python [conda env:notebook] *",
   "language": "python",
   "name": "conda-env-notebook-py"
  },
  "language_info": {
   "codemirror_mode": {
    "name": "ipython",
    "version": 3
   },
   "file_extension": ".py",
   "mimetype": "text/x-python",
   "name": "python",
   "nbconvert_exporter": "python",
   "pygments_lexer": "ipython3",
   "version": "3.10.11"
  },
  "vscode": {
   "interpreter": {
    "hash": "916dbcbb3f70747c44a77c7bcd40155683ae19c65e1c03b4aa3499c5328201f1"
   }
  }
 },
 "nbformat": 4,
 "nbformat_minor": 4
}
