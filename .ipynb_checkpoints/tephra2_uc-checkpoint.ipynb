{
 "cells": [
  {
   "cell_type": "markdown",
   "id": "2db31299-cd84-437d-a421-cefb3ea7e6da",
   "metadata": {},
   "source": [
    "## TehpraUC - a model for tephra sedimentation from umbrella clouds\n",
    "\n",
    "**TephraUC** is an advection-diffusion model for tephra sedimentation from umbrella clouds associated with large explosive eruptions. A full description of the implementation of the model can be found in *Constantinescu et al. (2021)* at <a href=\"https://www.nature.com/articles/s43247-020-00078-3#Abs1\" target=\"_blank\">this link</a>. This model is based on **Tephra2** model except for the *source term* which was changed from a sub-vertical plume to an umbrella cloud. Detailed documentation for this model can be found <a href=\"https://link.springer.com/chapter/10.1007/978-3-642-25911-1_3\" target=\"_blank\">here</a> and <a href=\"https://agupubs.onlinelibrary.wiley.com/doi/full/10.1029/2003JB002896\" target=\"_blank\">here</a>.\n",
    "\n",
    "### Notebook description\n",
    "\n",
    "This Jupyter notebook contains the forward model for tephra sedimentation from umbrella clouds, with a working example for the ~2070 BP eruption of El Misti voclano (Peru). The input parameters were taken from *Constantinescu et al. (2022)*. In <a href=\"https://agupubs.onlinelibrary.wiley.com/doi/full/10.1029/2021GL097425\" target=\"_blank\">this paper</a>, the authors combined the forward model presented here with an inversion algorithm to estimate the best set of eruption source parameters (ESP) for this eruption. These ESP are used in this example for the forward model. A Jupyter notebook for the inversion model is in development.\n",
    "\n",
    "This notebook contains a directory with the model's functions (*the user is advised to NOT modify these files, although improvments to the model are always welcomed*), the input and output files in *.csv* format, a wind data file and the notebook document.\n",
    "\n",
    "### Notebook use and model execution\n",
    "\n",
    "To run this model and visualize the results go through the next two steps:"
   ]
  },
  {
   "cell_type": "markdown",
   "id": "160c6121-6cbc-4262-a2ca-3bd45807d94f",
   "metadata": {},
   "source": [
    "## Step 1. Type in the input parameters and run the model.\n",
    "\n",
    "**!!! Use SI units** \n",
    "\n",
    "The user can choose between two run modes for the model: \n",
    "\n",
    "* *\"grid\"*: - this run mode calculates the tephra mass load per unit area ($kg$ $m^{-2}$) on a ground grid of a given resolution (*m x m*). To run this mode type in \"grid\" in the line: config[\"run_mode\"] = \"grid\".\n",
    "* *\"custom points\"*: -  this run mode calculates the tephra mass load per unit area ($kg$ $m^{-2}$) only at a given location (*lat, long*) defined in the *'custom_points.csv'* file. Add as many locations around the volcano as you want. To run this mode type in \"custom points\" in the line: config[\"run_mode\"] = \"custom points\"\n",
    "\n",
    "For the next input parameters, a brief description is presented below:\n",
    "\n",
    "* **Wind data:** - comment / uncomment the desired wind profile. For wind data at multiple atmospheric intervals, uncomment the *\"wind_file\"* line and comment the *\"wind_speed\"* and *\"wind_direction\"* lines. Copy/paste wind data in the *\"wind0\"* file in the format *height ($m$), speed ($m$ $s^{-1}$), direction ($degrees from N$)*. If no wind file is available, the model uses an averge wind field defined by a user input for speed and direction. Comment the *\"wind_file\"* and uncomment the *\"wind_speed\"* and *\"wind_direction\"* to run the model this way.\n",
    "\n",
    "* **Input/Output files:** - the input file is necessary only in *\"custom_points\"* run mode. The user should add the locations of interest in the *\"custom_points.csv\"* file. The model's output is in a *'Easting, Northing, Lat, Long, Mass load, Mass contribution of each simulated $\\phi$ class'* format either for the entire grid or at the custom locations only, depending on the run mode.\n",
    "\n",
    "* **Vent location & height:** - type in *(lat, long)* of the vent in decimal degrees and height in *meters above sea level*.\n",
    "\n",
    "* **Simulated map area and the ground grid:** - provide the four corners of the ground grid on which tephra mass load will be calculated. The user should input the distance from the vent to the four borders of the map in *meters*. In the example provided below, the vent is in the center of the map, 50 km from each border. The *\"ground_grid_step\"* parameter (in meters) defines the grid resolution for tephra mass load calculation. In the example provided, the *100000 m x 100000 m* map area will be divided in *1000 m x 1000 m* grid cells. The lower the discretization, the longer the computational time.\n",
    "\n",
    "* **Umbrella cloud dimensions:** - specify the radius of the umbrella cloud and the *\"disk_grid_step\"* in  *meters*. Numerous tests showed that a *250 m x 250 m* discretization of the umbrella cloud yields good results; a lower resolution will create unrealistic sedimentation patterns whereas for a higher resolution no changes are visible. The lower the discretization, the longer the computational time.\n",
    "\n",
    "* **Erupted mass / Column height:** - the total erupted mass of tephra in the umbrella cloud specified in *kg*. The column height represents the height at the base of the umbrella cloud and should be provided in *meters above vent*.\n",
    "\n",
    "* **Topo elevation:** - an average value for the lowest topography around the volcano (in meters), necessary for particale fall time calculations.\n",
    "\n",
    "* **Bulk density / Min & Max particle density:** - input the bulk deposit density and the minimum and maximum particles denisties (e.g., for lithics and pumices) ($kg$ $m^{-3}$).\n",
    "\n",
    "* **Grain size data:** - type in the minimum and maximum grain size in phi units, provide the mean and standard deviation of the grain size distribution and the interval of phi classes needed to simulate. the *\"step_phi\"* parameter is divides the phi classes in smaller bins. The higher this phi discretization, the longer the computational time.\n",
    "\n",
    "### Now you are ready to run the notebook cell below. A progress bar will show you how long it takes for the model to run. Once the simulation is finished, a series of control parameters will be printed. Visualising the results occurs in the next step.\n"
   ]
  },
  {
   "cell_type": "code",
   "execution_count": null,
   "id": "b9ee4f24-d8df-40e6-abc8-8598a94010a3",
   "metadata": {
    "tags": []
   },
   "outputs": [
    {
     "name": "stdout",
     "output_type": "stream",
     "text": [
      "Total ground points: 160801\n"
     ]
    },
    {
     "data": {
      "application/vnd.jupyter.widget-view+json": {
       "model_id": "270bf10f6bae4499b91fec4691d14ba4",
       "version_major": 2,
       "version_minor": 0
      },
      "text/plain": [
       "mass accumulation progress:   0%|          | 0/160801 [00:00<?, ?it/s]"
      ]
     },
     "metadata": {},
     "output_type": "display_data"
    }
   ],
   "source": [
    "from forward_model import TephraUC\n",
    "\n",
    "config = dict()\n",
    "\n",
    "config[\"run_mode\"] = \"grid\"\n",
    "\n",
    "#config[\"wind_file\"] = \"wind0\"\n",
    "config[\"wind_speed\"] = 5\n",
    "config[\"wind_direction\"] = 218\n",
    "\n",
    "config[\"output_file_name\"] = \"output.csv\"\n",
    "config[\"custom_points_file\"] = \"custom_points.csv\"\n",
    "\n",
    "config[\"vent_location\"] = (-16.294444, -71.408889)\n",
    "config[\"vent_height\"] = 5825\n",
    "\n",
    "config[\"distance_from_vent_to_top_border\"] = 200_000\n",
    "config[\"distance_from_vent_to_bottom_border\"] = 200_000\n",
    "config[\"distance_from_vent_to_left_border\"] = 200_000\n",
    "config[\"distance_from_vent_to_right_border\"] = 200_000\n",
    "config[\"ground_grid_step\"] = 1_000\n",
    "\n",
    "config[\"disk_grid_step\"] = 250\n",
    "config[\"disk_radius\"] = 5000\n",
    "\n",
    "config[\"total_erupted_mass\"] = 1.00e8\n",
    "config[\"column_height\"] = 20_000\n",
    "\n",
    "config[\"topo_elevation\"] = 2300\n",
    "config[\"bulk_density\"] = 1500\n",
    "config[\"particle_density_max\"] = 2000\n",
    "config[\"particle_density_min\"] = 800\n",
    "config[\"diffusion_coef\"] = 1500\n",
    "\n",
    "config[\"max_phi\"] = -6\n",
    "config[\"min_phi\"] = 6\n",
    "config[\"tgsd_mean\"] = 1.1\n",
    "config[\"tgsd_sigma\"] = 0.6\n",
    "config[\"simulated_max_phi\"] = -6\n",
    "config[\"simulated_min_phi\"] = 6 \n",
    "config[\"step_phi\"] = 0.01\n",
    "\n",
    "tephra_uc = TephraUC(config)\n",
    "\n",
    "tephra_uc.get_mass_accumulation()"
   ]
  },
  {
   "cell_type": "markdown",
   "id": "0dc41ecf-5acf-4647-9c92-78ee08cfa72e",
   "metadata": {},
   "source": [
    "## Step 2. Now you can visualize the results.\n",
    "\n",
    "Once the model was executed, the results will be stored in the *\"output.csv\"* file. If the model was executed in the *\"grid\"* run mode, the file will contain the tephra mass loading and the mass contribution of each phi class for each point in the ground grid. The notebook cell below can be used to plot an isomass map (contour lines of equal tephra mass loading). Alternatively, the user can use the output file to plot the results \n",
    "\n",
    "If the model was executed in the *\"custom points\"* run mode, the file will contain the same information but only for the selected point and cannot be plotted here. The user can use the output file to plot a histogram of the grain size distribution at that location. This feature will be added to this notebook soon. Stay tuned! \n",
    "\n",
    "**Check the following:** \n",
    "\n",
    "* make sure the correct name of the output file is provided in the line: \"df = pd.read_csv('output.csv') \"\n",
    "* make sure the correct vent coordinates are provided in the line: \"vent = (-16.294444, -71.408889)\"\n",
    "* choose how many contour lines you want to plot by changing the number of *\"levels\"* in the line: \"contour = plt.contour(lon_i, lat_i, tephra_load_i, levels=5)\"\n",
    "\n",
    "### Now run the notebook cell below to visualise the isomass map.\n"
   ]
  },
  {
   "cell_type": "code",
   "execution_count": null,
   "id": "2d33dfd0-89a6-48c5-9788-807a01bb34e5",
   "metadata": {},
   "outputs": [],
   "source": [
    "import pandas as pd\n",
    "import numpy as np\n",
    "import matplotlib.pyplot as plt\n",
    "import folium\n",
    "import geojsoncontour\n",
    "from scipy.interpolate import griddata\n",
    "\n",
    "\n",
    "df = pd.read_csv('output.csv') \n",
    "tephra_df = df[df['tephra_load'] >= 0.0001]\n",
    "lat = tephra_df[\"lat\"]\n",
    "lon = tephra_df[\"lon\"]\n",
    "tephra_load = tephra_df['tephra_load']\n",
    "\n",
    " \n",
    "N = 1000\n",
    "lon_i = np.linspace(min(lon), max(lon), N)\n",
    "lat_i = np.linspace(min(lat), max(lat), N)\n",
    "tephra_load_i = griddata((lon, lat), tephra_load, (lon_i[None,:], lat_i[:,None]), method='linear')\n",
    "\n",
    "contour = plt.contour(lon_i, lat_i, tephra_load_i, levels=10)\n",
    "\n",
    "geojson = geojsoncontour.contour_to_geojson(\n",
    "    contour=contour,\n",
    "    min_angle_deg=3.0,\n",
    "    ndigits=5,\n",
    "    stroke_width=1\n",
    ")\n",
    "\n",
    "geomap = folium.Map([df.lat.mean(), df.lon.mean()], tiles=\"Stamen Terrain\")\n",
    "vent = (-16.294444, -71.408889)\n",
    "\n",
    "folium.Marker([vent[0], vent[1]]).add_to(geomap)\n",
    "\n",
    "folium.GeoJson(geojson).add_to(geomap)\n",
    "\n",
    "           \n",
    "sw = tephra_df[['lat', 'lon']].min().values.tolist()\n",
    "ne = tephra_df[['lat', 'lon']].max().values.tolist()\n",
    "geomap.fit_bounds([sw, ne]) \n",
    "\n",
    "geomap\n"
   ]
  },
  {
   "cell_type": "code",
   "execution_count": null,
   "id": "0fc50b15-5f99-4c4b-b789-396fa604abc1",
   "metadata": {},
   "outputs": [],
   "source": []
  }
 ],
 "metadata": {
  "kernelspec": {
   "display_name": "Python 3 (ipykernel)",
   "language": "python",
   "name": "python3"
  },
  "language_info": {
   "codemirror_mode": {
    "name": "ipython",
    "version": 3
   },
   "file_extension": ".py",
   "mimetype": "text/x-python",
   "name": "python",
   "nbconvert_exporter": "python",
   "pygments_lexer": "ipython3",
   "version": "3.10.11"
  },
  "vscode": {
   "interpreter": {
    "hash": "c0c75c7abcea609e2ed74cfa11a8c9241a5e8ee29059d1772c5bce496b661593"
   }
  },
  "widgets": {
   "application/vnd.jupyter.widget-state+json": {
    "state": {},
    "version_major": 2,
    "version_minor": 0
   }
  }
 },
 "nbformat": 4,
 "nbformat_minor": 5
}
