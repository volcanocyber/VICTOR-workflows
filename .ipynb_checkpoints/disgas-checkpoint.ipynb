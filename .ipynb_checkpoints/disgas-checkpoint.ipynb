{
 "cells": [
  {
   "cell_type": "code",
   "execution_count": 1,
   "id": "de64d5eb-df9c-4129-9561-4688a9b168be",
   "metadata": {},
   "outputs": [],
   "source": [
    "import os\n",
    "import subprocess\n",
    "import sys\n",
    "import matplotlib.pyplot as plt\n",
    "import rioxarray as rxr\n",
    "import matplotlib\n",
    "import numpy as np\n",
    "import imageio\n",
    "sys.path.insert(0,\"/home/jovyan/shared/Libraries\")\n",
    "import victor"
   ]
  },
  {
   "cell_type": "code",
   "execution_count": 2,
   "id": "7d094fde-0e0d-42ea-8974-f2fd79e907c2",
   "metadata": {},
   "outputs": [],
   "source": [
    "create_gif = False"
   ]
  },
  {
   "cell_type": "markdown",
   "id": "7c9ff5c0-8e17-4f24-a170-990079ab468a",
   "metadata": {},
   "source": [
    "### Enter date\n",
    "\n",
    "First, please enter date-related parameters"
   ]
  },
  {
   "cell_type": "code",
   "execution_count": 3,
   "id": "49795ad4-49e7-45ca-83cc-2f9a031a2ea2",
   "metadata": {},
   "outputs": [],
   "source": [
    "year = 2007\n",
    "\n",
    "month = 2\n",
    "\n",
    "day = 24\n",
    "\n",
    "hour = 12\n",
    "\n",
    "minute = \"00\"\n",
    "\n",
    "#Set duration of simulation in seconds\n",
    "sim_duration = 120\n",
    "\n",
    "#If restart file exists, use it (NO/YES)\n",
    "restart_run = \"NO\"\n",
    "\n",
    "#If using the restart file, continue from existing time, or from 0 (NO/YES)\n",
    "reset_time = \"NO\""
   ]
  },
  {
   "cell_type": "markdown",
   "id": "76e2ee73-d89e-4ce9-9b47-fa5df5e27b11",
   "metadata": {},
   "source": [
    "### Specify grid and topography parameters\n",
    "\n",
    "Please specify grid spacing and origin in UTM, as well as if you are grabbing the topography from a file, or if you are creating a simple map with a slope,"
   ]
  },
  {
   "cell_type": "code",
   "execution_count": 4,
   "id": "43f25ab3-6cf9-43d3-bf82-172689a2340d",
   "metadata": {},
   "outputs": [],
   "source": [
    "num_x = 40\n",
    "\n",
    "num_y = 40\n",
    "\n",
    "num_z = 11\n",
    "\n",
    "#Array of layers to calculate (m)\n",
    "z_layers = [0, 1, 4, 8, 12, 16, 24, 32, 40, 50, 60]\n",
    "\n",
    "#grid spacing along x direction (m)\n",
    "dx = 30\n",
    "\n",
    "#grid spacing along y direction (m)\n",
    "dy = 30\n",
    "\n",
    "x_utm = 427000\n",
    "\n",
    "y_utm = 4520000\n",
    "\n",
    "utm_zone = \"33S\"\n",
    "\n",
    "#Get the topography from a file\n",
    "extract_topo_from_file = \"YES\"\n",
    "\n",
    "#Set height of bottom left corner of topography, if not using file\n",
    "z_origin = 0.0\n",
    "\n",
    "#Slope of the flat topography in the x direction (degrees)\n",
    "x_slope = 0.0\n",
    "\n",
    "#Slope of the flat topography in the y direction (degrees)\n",
    "y_slope = 0.0"
   ]
  },
  {
   "cell_type": "markdown",
   "id": "5372ab17-dcab-4481-ac83-9e1997355704",
   "metadata": {},
   "source": [
    "### Enter model calculation parameters\n",
    "\n",
    "Please choose options related to the treatment of the model as a gas (with no settling velocity) or as particles (settling velocity calculated in accordance with specified parameters."
   ]
  },
  {
   "cell_type": "code",
   "execution_count": 5,
   "id": "998ed7c5-f96b-4a72-8b21-fc7a76599fd6",
   "metadata": {},
   "outputs": [],
   "source": [
    "#Options are GAS, PARTICLES\n",
    "dispersion_type = \"GAS\"\n",
    "\n",
    "#If PARTICLES is chosen, set the next 4, otherwise ignore\n",
    "\n",
    "#Set particle diameter (m)\n",
    "particle_diameter = 1e-5\n",
    "\n",
    "#Set particle density (kg/m^3)\n",
    "particle_density = 2500\n",
    "\n",
    "#Set if particle shape parameter is used in calculating setting velocity (use=1, ignored=0)\n",
    "particle_shape_parameter = 1\n",
    "\n",
    "#Set model for particle velocity calculation. Choices are (\"ARASTOOPOUR\"/\"GANSER\"/\"WILSON_HUANG\")\n",
    "particle_model_vset = \"GANSER\""
   ]
  },
  {
   "cell_type": "markdown",
   "id": "ad543572-3da4-4307-85b8-9ec2373eb250",
   "metadata": {},
   "source": [
    "### Enter meteorology terms\n",
    "\n",
    "Please set the wind model and related coefficients/constants."
   ]
  },
  {
   "cell_type": "code",
   "execution_count": 6,
   "id": "be1d0652-a98d-4655-8c84-820c180aaf4c",
   "metadata": {},
   "outputs": [],
   "source": [
    "#Set wind model (SIMILARITY/DIAGNO), from file/diagno utility\n",
    "wind_model = \"SIMILARITY\"\n",
    "\n",
    "#Set horizontal turbulence model, choose from: CONSTANT, SMAGORINSKY\n",
    "horizontal_turb_model = \"SMAGORINSKY\"\n",
    "\n",
    "#Set vertical turbulence model (CONSTANT/SIMILARITY)\n",
    "vertical_turb_model = \"SIMILARITY\"\n",
    "\n",
    "#Set roughness model (UNIFORM/MATRIX). MATRIX requires a file to specify roughness length\n",
    "roughness_model = \"UNIFORM\"\n",
    "\n",
    "#Set roughness length if uniform\n",
    "roughness_level = .18\n",
    "\n",
    "#Set horizontal diffusion coefficient if the model is set to constant\n",
    "diff_coeff_horizontal = 10\n",
    "\n",
    "#Set vertical diffusion coefficient if the model is set to constant\n",
    "diff_coeff_vertical = 10"
   ]
  },
  {
   "cell_type": "markdown",
   "id": "56c3f38f-2f10-4d79-a0ae-58b28b80829b",
   "metadata": {},
   "source": [
    "### Enter file paths and output specifications\n",
    "\n",
    "Please, if applicable, set paths for relevant model files as well as verboseness and inclusion of additional data in output files."
   ]
  },
  {
   "cell_type": "code",
   "execution_count": 7,
   "id": "81f93c8f-ce14-42f6-9788-8707123bc1de",
   "metadata": {},
   "outputs": [],
   "source": [
    "#Only needed if extract_topo_from_file is set to \"YES\"\n",
    "topography_file = \"topography.grd\"\n",
    "\n",
    "#Only neeeded when roughness_model is set to \"MATRIX\"\n",
    "roughness_file = \"roughness.grd\"\n",
    "\n",
    "#Only needed if run is a restart\n",
    "restart_file = \"restart.dat\"\n",
    "\n",
    "source_file = \"source.dat\"\n",
    "\n",
    "#Only needed when wind model is set to \"SIMILARITY\"\n",
    "wind_file = \"winds.dat\"\n",
    "\n",
    "#Only needed when wind model set to \"DIAGNO\"\n",
    "diagno_file = \"diagno.out\"\n",
    "\n",
    "#Directory that output files will be output to\n",
    "output_directory = \"outfiles\"\n",
    "\n",
    "#Set 0 for low verbosity, 1 for high\n",
    "log_verbosity = 0\n",
    "\n",
    "#Set output interval in seconds\n",
    "interval = 30\n",
    " \n",
    "#Output a file at each interval for the wind in the x direction in m/s (\"YES\"/\"NO\") \n",
    "output_u_velocity = \"YES\"\n",
    "\n",
    "#Output a file at each interval for the wind in the y direction in m/s (\"YES\"/\"NO\") \n",
    "output_v_velocity = \"YES\"\n",
    "\n",
    "#Output a file at each interval for the concentration of gas direction in kg/m^3 (\"YES\"/\"NO\") \n",
    "output_conc = \"YES\""
   ]
  },
  {
   "cell_type": "code",
   "execution_count": 8,
   "id": "6506693e-1d78-4d56-a129-b74bf876ed97",
   "metadata": {},
   "outputs": [],
   "source": [
    "inp_file = f\"\"\"DISGAS INPUT FILE\n",
    "\n",
    "TIME\n",
    "  YEAR   = {year}\n",
    "  MONTH  = {month}\n",
    "  DAY    = {day}\n",
    "  HOUR   = {hour}\n",
    "  MINUTE = {minute}\n",
    "  SIMULATION_INTERVAL_(SEC) = {sim_duration}\n",
    "  RESTART_RUN = {restart_run}\n",
    "  RESET_TIME  = {reset_time}\n",
    "\n",
    "GRID\n",
    "  NX     = {num_x}\n",
    "  NY     = {num_y}\n",
    "  NZ     = {num_z}\n",
    "  Z_LAYERS_(M) = {str(z_layers)[1:-1].replace(\",\",\".\")+\".\"}\n",
    "  DX_(M) = {dx}.\n",
    "  DY_(M) = {dy}.\n",
    "  X_ORIGIN_(UTM_M) =  {x_utm}\n",
    "  Y_ORIGIN_(UTM_M) = {y_utm}\n",
    "  UTM_ZONE = {utm_zone}\n",
    "\n",
    "PROPERTIES\n",
    "  DISPERSION_TYPE = {dispersion_type}            (GAS/PARTICLES)\n",
    "  PARTICLE_DIAMETER = {particle_diameter}         (DIAMETER IN M)\n",
    "  PARTICLE_DENSITY =  {particle_density}.         (KG/M3)\n",
    "  PARTICLE_SHAPE_PARAMETER = {particle_shape_parameter}.     ([0-1])\n",
    "  PARTICLE_MODEL_VSET = {particle_model_vset}      (ARASTOOPOUR/GANSER/WILSON_HUANG)\n",
    "\n",
    "TOPOGRAPHY\n",
    "  EXTRACT_TOPOGRAPHY_FROM_FILE = {extract_topo_from_file}    (YES/NO)\n",
    "  Z_ORIGIN_(M) = {z_origin}\n",
    "  X_SLOPE_(DEG) = {x_slope}\n",
    "  Y_SLOPE_(DEG) = {y_slope}\n",
    "\n",
    "METEO\n",
    "  WIND_MODEL            = {wind_model}    (SIMILARITY/DIAGNO)\n",
    "  HORIZONTAL_TURB_MODEL = {horizontal_turb_model}   (CONSTANT/SMAGORINSKY)\n",
    "  VERTICAL_TURB_MODEL   = {vertical_turb_model}    (CONSTANT/SIMILARITY)\n",
    "  ROUGHNESS_MODEL       = {roughness_model}       (UNIFORM/MATRIX)\n",
    "  ROUGHNESS_LENGTH      = {roughness_level}          (Roughness length if UNIFORM)\n",
    "  DIFF_COEFF_HORIZONTAL = {diff_coeff_horizontal}           (Only for turbulence model=0)\n",
    "  DIFF_COEFF_VERTICAL   = {diff_coeff_vertical}           (Only for turbulence model=0)\n",
    "\n",
    " FILES                                        (Relative or absolute file paths)\n",
    "   TOPOGRAPHY_FILE_PATH   = {topography_file}  (Only used if topography is extracted from a file)  \n",
    "   ROUGHNESS_FILE_PATH    = {roughness_file}   (Only used if roughness model is MATRIX)\n",
    "   RESTART_FILE_PATH      = {restart_file}     (Only used if the run is a restart)\n",
    "   SOURCE_FILE_PATH       = {source_file}\n",
    "   WIND_FILE_PATH         = {wind_file}       (Only used with SIMILARITY wind model)\n",
    "   DIAGNO_FILE_PATH       = {diagno_file}      (Only used with DIAGNO wind model)\n",
    "   OUTPUT_DIRECTORY       = {output_directory}\n",
    "\n",
    "OUTPUT\n",
    "  LOG_VERBOSITY_LEVEL  = {log_verbosity}                 (0/1)\n",
    "  OUTPUT_GRD_TYPE      = ASCII             (ASCII/BINARY)\n",
    "  OUTPUT_INTERVAL_(SEC) = {interval}               Number of seconds between prints\n",
    "  OUTPUT_U_VELOCITY = {output_u_velocity}                  (YES/NO)\n",
    "  OUTPUT_V_VELOCITY = {output_v_velocity}                  (YES/NO)\n",
    "  OUTPUT_W_VELOCITY = NO                  (YES/NO)\n",
    "  OUTPUT_CONCENTRATION = {output_conc}               (YES/NO)\n",
    "  OUTPUT_LAYERS = ALL                      (ALL/List_of_layers)\n",
    "  \"\"\"\n",
    "with open(\"disgas.inp\",'w') as in_file:\n",
    "    in_file.write(inp_file)"
   ]
  },
  {
   "cell_type": "code",
   "execution_count": 9,
   "id": "b4859aae-cc92-40e3-9e4f-adbb3b4f47f1",
   "metadata": {
    "tags": []
   },
   "outputs": [
    {
     "name": "stdout",
     "output_type": "stream",
     "text": [
      "\n",
      "----------------\n",
      " DISGAS PROGRAM \n",
      "----------------\n",
      "                \n",
      "  Starting date 13-02-2023 at time 17:59:28\n",
      "\n",
      "------------\n",
      " INPUT DATA \n",
      "------------\n",
      "\n",
      "TIME\n",
      "  Initial time    :   24 FEB 2007 at 12 h 0000 s\n",
      "  Final   time    :   24 FEB 2007 at 12 h 0120 s\n",
      "  Time increment  :    0.0 h (       120.0 s)\n",
      "  Restart         :   No\n",
      "\n",
      "GRID\n",
      "  Bottom-left corner : ( 427000.0  4520000.0)\n",
      "  Top-right   corner : ( 428170.0  4521170.0)\n",
      "  Number points x    :        40\n",
      "  Number points y    :        40\n",
      "  Number points z    :        11\n",
      "  X  grid spacing    :      30.0\n",
      "  Y  grid spacing    :      30.0\n",
      "\n",
      "TOPOGRAPHY\n",
      "  Min. topography    :      49.4\n",
      "  Max. topography    :     203.4\n",
      "\n",
      "OUTPUT\n",
      "  Time interval (sec):       30.0\n",
      "  Dump directory     : outfiles\n",
      "  Output restart file: yes\n",
      "  Output domain      : no\n",
      "  Output source      : no\n",
      "  Output u-velocity  : yes\n",
      "  Output v-velocity  : yes\n",
      "  Output w-velocity  : no \n",
      "  Output ground_load : no \n",
      "  Output concentr.   : yes\n",
      "\n",
      "----------------\n",
      " TIME EVOLUTION \n",
      "----------------\n",
      "\n",
      "\n",
      "   Iteration                 :        0\n",
      "   Time step                 :  0.000000E+00 s\n",
      "   Elapsed time              :       0.00 s   (   0.00%)\n",
      "   Current time              : 24 FEB 2007 at 12:00:00\n",
      "   -------                     \n",
      "\n",
      "   Iteration                 :        4\n",
      "   Time step                 :  0.681644E+01 s\n",
      "   Elapsed time              :      30.00 s   (  25.00%)\n",
      "   Current time              : 24 FEB 2007 at 12:00:30\n",
      "   -------                     \n",
      "\n",
      "   Iteration                 :        8\n",
      "   Time step                 :  0.681644E+01 s\n",
      "   Elapsed time              :      60.00 s   (  50.00%)\n",
      "   Current time              : 24 FEB 2007 at 12:01:00\n",
      "   -------                     \n",
      "\n",
      "   Iteration                 :       12\n",
      "   Time step                 :  0.681644E+01 s\n",
      "   Elapsed time              :      90.00 s   (  75.00%)\n",
      "   Current time              : 24 FEB 2007 at 12:01:30\n",
      "   -------                     \n",
      "\n",
      "   Iteration                 :       16\n",
      "   Time step                 :  0.681644E+01 s\n",
      "   Elapsed time              :     120.00 s   ( 100.00%)\n",
      "   Current time              : 24 FEB 2007 at 12:02:00\n",
      "   -------                     \n",
      "\n",
      "-------------------\n",
      " END OF SIMULATION \n",
      "-------------------\n",
      "\n",
      "  STATUS  : NORMAL TERMINATION\n",
      "  CPU TIME:       0.3 sec\n"
     ]
    },
    {
     "data": {
      "text/plain": [
       "CompletedProcess(args='./disgas disgas.inp', returncode=0)"
      ]
     },
     "execution_count": 9,
     "metadata": {},
     "output_type": "execute_result"
    }
   ],
   "source": [
    "subprocess.run(\"./disgas disgas.inp\", shell=True)"
   ]
  },
  {
   "cell_type": "markdown",
   "id": "dd09df5b-1172-4ede-9571-ca4a94f7ac87",
   "metadata": {},
   "source": [
    "### Output Visualization\n",
    "\n",
    "Please choose the layer you would like to visualize."
   ]
  },
  {
   "cell_type": "code",
   "execution_count": 10,
   "id": "20082f51-ab9d-434f-95cf-d4cfe3d4e84a",
   "metadata": {},
   "outputs": [],
   "source": [
    "layer = 4"
   ]
  },
  {
   "cell_type": "code",
   "execution_count": 11,
   "id": "986af5b0-ec02-4ad9-8595-8c0e1e506f53",
   "metadata": {},
   "outputs": [
    {
     "data": {
      "image/png": "[encoded data removed]",
      "text/plain": [
       "<Figure size 640x480 with 2 Axes>"
      ]
     },
     "metadata": {},
     "output_type": "display_data"
    }
   ],
   "source": [
    "num_outputs = int(np.floor(sim_duration/interval))+1\n",
    "save_index = 0\n",
    "for i in range(num_outputs):\n",
    "    plotname = \"\".join(('c_',str(layer).zfill(3),\"_\",str(i).zfill(6),'.grd'))\n",
    "    dem_check = rxr.open_rasterio(\"\".join((\"./outfiles/\",plotname))).drop('band')[0].rename({'x':'easting', 'y':'northing'})\n",
    "    dem_check = dem_check.where(dem_check > 0)\n",
    "    if dem_check.max().isnull() and dem_check.min().isnull():\n",
    "        continue\n",
    "    plt.clf()\n",
    "    dem_check.plot(norm=matplotlib.colors.LogNorm(vmin=dem_check.min(),vmax=dem_check.max()),cmap=\"bone\")\n",
    "    plt.savefig(\"\".join((\"gas_\",str(save_index))))\n",
    "    save_index += 1\n",
    "if create_gif:\n",
    "    frames = []\n",
    "    for i in range(save_index):\n",
    "        image = imageio.v2.imread(f'gas_{i}.png')\n",
    "        frames.append(image)\n",
    "    imageio.mimsave(\"gasses.gif\", # output gif\n",
    "    frames,          # array of input frames\n",
    "    fps = 10)"
   ]
  }
 ],
 "metadata": {
  "kernelspec": {
   "display_name": "Python 3 (ipykernel)",
   "language": "python",
   "name": "python3"
  },
  "language_info": {
   "codemirror_mode": {
    "name": "ipython",
    "version": 3
   },
   "file_extension": ".py",
   "mimetype": "text/x-python",
   "name": "python",
   "nbconvert_exporter": "python",
   "pygments_lexer": "ipython3",
   "version": "3.10.11"
  }
 },
 "nbformat": 4,
 "nbformat_minor": 5
}
